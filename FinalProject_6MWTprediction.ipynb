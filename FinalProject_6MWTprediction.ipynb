{
  "nbformat": 4,
  "nbformat_minor": 0,
  "metadata": {
    "colab": {
      "name": "FinalProject-6MWTprediction.ipynb",
      "provenance": [],
      "collapsed_sections": [],
      "authorship_tag": "ABX9TyNrJ7X/uNqgetIpZluFbmTd",
      "include_colab_link": true
    },
    "kernelspec": {
      "name": "python3",
      "display_name": "Python 3"
    },
    "language_info": {
      "name": "python"
    }
  },
  "cells": [
    {
      "cell_type": "markdown",
      "metadata": {
        "id": "view-in-github",
        "colab_type": "text"
      },
      "source": [
        "<a href=\"https://colab.research.google.com/github/paulinerosegut/HS21_BigDataAnalysis_FinalProject_Gut_Chen/blob/main/FinalProject_6MWTprediction.ipynb\" target=\"_parent\"><img src=\"https://colab.research.google.com/assets/colab-badge.svg\" alt=\"Open In Colab\"/></a>"
      ]
    },
    {
      "cell_type": "markdown",
      "metadata": {
        "id": "pI8DyZ2Z2fx0"
      },
      "source": [
        "# Introduction\n",
        "Walking is mediated through a finely balanced and carefully coordinated interplay of the musculoskeletal and nervous system [1, 2]. Damage to the brain and, especially, the spinal cord can impair walking function, a frequent and relevant symptom in neurological diseases or conditions such as multiple sclerosis (MS) [3] or traumatic spinal cord injury (SCI) [4]. MS is a chronic, autoimmune, inflammatory disease of the central nervous system (CNS). The\n",
        "spinal cord is a common site of inflammatory destruction in MS with frequent involvement of the long descending and ascending fibre tracts [5, 6]. Three quarters of people with MS report reduced mobility throughout their lifetime [7]. Spinal cord damage can be caused by inflammation as in multiple sclerosis (MS) or may result from trauma (traumatic SCI) or ischemia (ischemic SCI) [8, 9]. About half of all lesions in SCI are functionally incomplete with some motor or sensory function preserved below the level of the injury which may allow for some recovery of walking function [8, 10]. Regaining walking ability is thus a priority for subjects with spinal disorders and a main goal in the field of neurorehabilitation [11, 12].\n",
        "\n",
        "After spinal cord damage, gait disturbances are heterogeneous with different aspects of ambulatory function being affected to varying degrees [13, 14] including muscle strength, coordination and balance. Recovery of locomotor function after CNS damage is enhanced by training [3, 15–19]. In clinical practice, therapy of walking dysfunction is usually adapted to the individual capabilities at the beginning and throughout the course of therapy, requiring valid and repeated evaluations by experienced therapists. Visual inspection of gait and various scoring systems (e.g., Expanded Disability Status Scale (EDSS), Walking Index for Spinal Cord Injury (WISCI)) and clinical walking tests (e.g., timed walking tests assessing maximal speed and endurance, balance scores) are frequently used as readouts of ambulatory function in MS [20–23] and SCI [24, 25]. However, these measures provide only limited information about specific gait deficits, are generally insensitive to change, and may be affected by subjectivity [21, 26, 27]. On the other hand, these measures seem to be clinically meaningful and valid as they measure function closely related to everyday tasks [21, 26]. Clinical scores and walking tests, such as the endurance six-minute walk test (6MWT), are thus frequently used as primary endpoints in clinical interventional trials [28].\n",
        "\n",
        "Three-dimensional (3D) full-body kinematic movement analysis, a more recent technique, provides objective and quantitative measures. This technique is able to unravel the individual factors underlying a given patient’s gait dysfunction, even in complex neurological conditions such as MS [21, 29–31] or SCI [4, 32, 33]. 3D gait analysis permits the cataloguing and processing of numerous kinematic parameters (e.g., spatiotemporal data, joint angles etc.)\n",
        "[21, 32]. Today, it represents the gold standard in assessing locomotor dysfunction in humans [21]. Such techniques are informative concerning how exactly patients move and provide more in-depth insights into complex walking dysfunctions. However, among these many kinematic parameters, there is no evidence to date as to which are the most revealing for daily walking, or more precisely, for the endurance test (6MWT).\n",
        "\n",
        "In this project, a better understanding of the gait parameters important for the outcome of the 6MWT, a test measuring walking distance after six minutes that is closely related to daily walking, will be investigated. In this way, therapies aimed at restoring walking function in MS and SCI patients could be better tailored.\n"
      ]
    },
    {
      "cell_type": "markdown",
      "metadata": {
        "id": "Ij52pyEO4RtE"
      },
      "source": [
        "# Methods\n",
        "71 patients from Balgrist with MS or SCI will be retrospectively included in the study. All patients underwent 3D motion analysis where they walked for 30 seconds on a treadmill (120 Hz, FDM-T, Zebris Medical GmbH, Germany). The gait was laboratory equipped with 27 infrared cameras recording via Nexus (Vicon, Oxford, UK) motion capture software at a sampling rate of 200 Hz. Twenty-nine reflective markers (14 mm diameter) were placed on the skin based on the full-body gait model (Plug-in-Gait, Vicon, UK). All patients walked on the treadmill at a fixed speed of 2.5 km/h. Data were processed using\n",
        "Vicon Nexus motion capture software (Vicon, Oxford, UK) and the gait parameters were extracted using an in-house made MATLAB algorithm (2020b, The Mathworks Inc. Natick, Massachusetts, United States). A set of 38 gait parameters, such as range of motion at different joints, stability, leg coordination, symmetry, end-point measures, gait phases and variability [34], were calculated for each patient. Bilateral gait parameters were distinguished between the more impaired (MI) leg and the less impaired (LI) leg, instead of left and right.\n",
        "Impairments in each leg were assessed by a physician during a neurological examination. For each gait parameter, the mean for each step cycle and then the mean of all the steps were calculated for each patient. In addition, patients performed the 6MWT.\n",
        "\n",
        "In order to characterise which gait parameters are the most important in the 6MWT outcome, a prediction analysis will be conducted. The analysis will be performed in Python 3 (Python Software Foundation. Python Language Reference, version 3.8. Available at http://www.python.org). Using the python package scikit-learn, supervised machine learning, more specifically linear regression and classification, such as logistic regression and support vector machine (SVM), will be implemented. In order to identify how many classes are necessary for the prediction of the 6MWT with SVM, k-nearest neighbours (kNN) will be used. In addition, feature selection, more specifically sequential feature selection using the python package mlxtend, will be implemented to find the best set of gait parameters predicting the 6MWT. Finally, an evaluation of the predictions of each algorithm will be analysed in terms of root mean square errors (RMSE) for regression and confusion matrix for classification."
      ]
    },
    {
      "cell_type": "markdown",
      "metadata": {
        "id": "DXHzE47J2z9i"
      },
      "source": [
        "# Pauline"
      ]
    },
    {
      "cell_type": "markdown",
      "metadata": {
        "id": "M3r6YXo0RCi_"
      },
      "source": [
        "# Datasets"
      ]
    },
    {
      "cell_type": "code",
      "metadata": {
        "id": "ox3VGerqBL_q"
      },
      "source": [
        "# Import libraries\n",
        "import pandas as pd\n",
        "import seaborn as sns\n",
        "import matplotlib.pyplot as plt\n",
        "import numpy as np"
      ],
      "execution_count": 2,
      "outputs": []
    },
    {
      "cell_type": "markdown",
      "metadata": {
        "id": "1uuYH1VxSsQB"
      },
      "source": [
        "### Demographics"
      ]
    },
    {
      "cell_type": "code",
      "metadata": {
        "colab": {
          "base_uri": "https://localhost:8080/",
          "height": 206
        },
        "id": "HsJDaerDSvkj",
        "outputId": "0528afcf-d2d9-443e-d92e-4f1549f2d6c9"
      },
      "source": [
        "demographics = pd.read_csv('https://raw.githubusercontent.com/paulinerosegut/HS21_BigDataAnalysis_FinalProject_Gut_Chen/main/Demographics.csv?token=ARS7BP6TMLPR42XW5QE6JPTBTS4HU')\n",
        "demographics.head()"
      ],
      "execution_count": 4,
      "outputs": [
        {
          "output_type": "execute_result",
          "data": {
            "text/html": [
              "<div>\n",
              "<style scoped>\n",
              "    .dataframe tbody tr th:only-of-type {\n",
              "        vertical-align: middle;\n",
              "    }\n",
              "\n",
              "    .dataframe tbody tr th {\n",
              "        vertical-align: top;\n",
              "    }\n",
              "\n",
              "    .dataframe thead th {\n",
              "        text-align: right;\n",
              "    }\n",
              "</style>\n",
              "<table border=\"1\" class=\"dataframe\">\n",
              "  <thead>\n",
              "    <tr style=\"text-align: right;\">\n",
              "      <th></th>\n",
              "      <th>PatientID</th>\n",
              "      <th>Gender</th>\n",
              "      <th>Age</th>\n",
              "      <th>Pathology</th>\n",
              "      <th>Disease_duration</th>\n",
              "      <th>EDSS</th>\n",
              "      <th>Lesion_Level</th>\n",
              "      <th>AISA</th>\n",
              "      <th>6MWT</th>\n",
              "      <th>MI_Leg</th>\n",
              "    </tr>\n",
              "  </thead>\n",
              "  <tbody>\n",
              "    <tr>\n",
              "      <th>0</th>\n",
              "      <td>1</td>\n",
              "      <td>F</td>\n",
              "      <td>45</td>\n",
              "      <td>SCI</td>\n",
              "      <td>12.0</td>\n",
              "      <td>NaN</td>\n",
              "      <td>T10</td>\n",
              "      <td>D</td>\n",
              "      <td>608</td>\n",
              "      <td>L</td>\n",
              "    </tr>\n",
              "    <tr>\n",
              "      <th>1</th>\n",
              "      <td>2</td>\n",
              "      <td>M</td>\n",
              "      <td>30</td>\n",
              "      <td>SCI</td>\n",
              "      <td>7.0</td>\n",
              "      <td>NaN</td>\n",
              "      <td>T11</td>\n",
              "      <td>D</td>\n",
              "      <td>580</td>\n",
              "      <td>R</td>\n",
              "    </tr>\n",
              "    <tr>\n",
              "      <th>2</th>\n",
              "      <td>3</td>\n",
              "      <td>M</td>\n",
              "      <td>73</td>\n",
              "      <td>SCI</td>\n",
              "      <td>189.0</td>\n",
              "      <td>NaN</td>\n",
              "      <td>C7</td>\n",
              "      <td>D</td>\n",
              "      <td>660</td>\n",
              "      <td>L</td>\n",
              "    </tr>\n",
              "    <tr>\n",
              "      <th>3</th>\n",
              "      <td>4</td>\n",
              "      <td>M</td>\n",
              "      <td>43</td>\n",
              "      <td>SCI</td>\n",
              "      <td>165.0</td>\n",
              "      <td>NaN</td>\n",
              "      <td>C4</td>\n",
              "      <td>D</td>\n",
              "      <td>435</td>\n",
              "      <td>L</td>\n",
              "    </tr>\n",
              "    <tr>\n",
              "      <th>4</th>\n",
              "      <td>5</td>\n",
              "      <td>M</td>\n",
              "      <td>41</td>\n",
              "      <td>SCI</td>\n",
              "      <td>150.0</td>\n",
              "      <td>NaN</td>\n",
              "      <td>C7</td>\n",
              "      <td>D</td>\n",
              "      <td>683</td>\n",
              "      <td>R</td>\n",
              "    </tr>\n",
              "  </tbody>\n",
              "</table>\n",
              "</div>"
            ],
            "text/plain": [
              "   PatientID Gender  Age  Pathology  ...  Lesion_Level  AISA 6MWT MI_Leg\n",
              "0          1      F    45       SCI  ...           T10     D  608      L\n",
              "1          2      M    30       SCI  ...           T11     D  580      R\n",
              "2          3      M    73       SCI  ...            C7     D  660      L\n",
              "3          4      M    43       SCI  ...            C4     D  435      L\n",
              "4          5      M    41       SCI  ...            C7     D  683      R\n",
              "\n",
              "[5 rows x 10 columns]"
            ]
          },
          "metadata": {},
          "execution_count": 4
        }
      ]
    },
    {
      "cell_type": "code",
      "metadata": {
        "colab": {
          "base_uri": "https://localhost:8080/"
        },
        "id": "RStnzTL8Swu3",
        "outputId": "8ebc9f47-b423-44a4-9122-92cc0fcbce9b"
      },
      "source": [
        "demographics.info()"
      ],
      "execution_count": 6,
      "outputs": [
        {
          "output_type": "stream",
          "name": "stdout",
          "text": [
            "<class 'pandas.core.frame.DataFrame'>\n",
            "RangeIndex: 71 entries, 0 to 70\n",
            "Data columns (total 10 columns):\n",
            " #   Column            Non-Null Count  Dtype  \n",
            "---  ------            --------------  -----  \n",
            " 0   PatientID         71 non-null     int64  \n",
            " 1   Gender            71 non-null     object \n",
            " 2   Age               71 non-null     int64  \n",
            " 3   Pathology         71 non-null     object \n",
            " 4   Disease_duration  70 non-null     float64\n",
            " 5   EDSS              39 non-null     float64\n",
            " 6   Lesion_Level      32 non-null     object \n",
            " 7   AISA              32 non-null     object \n",
            " 8   6MWT              71 non-null     int64  \n",
            " 9   MI_Leg            71 non-null     object \n",
            "dtypes: float64(2), int64(3), object(5)\n",
            "memory usage: 5.7+ KB\n"
          ]
        }
      ]
    },
    {
      "cell_type": "markdown",
      "metadata": {
        "id": "PSiDmvmtSoQx"
      },
      "source": [
        "### Gait parameters"
      ]
    },
    {
      "cell_type": "code",
      "metadata": {
        "colab": {
          "base_uri": "https://localhost:8080/",
          "height": 226
        },
        "id": "-8hetfkQA5cP",
        "outputId": "5d515caf-b7dd-402e-984a-1b7fd5a2a0a7"
      },
      "source": [
        "df = pd.read_csv('https://raw.githubusercontent.com/paulinerosegut/HS21_BigDataAnalysis_FinalProject_Gut_Chen/main/GaitParameters_MeanValues.csv?token=ARS7BP647XGAMVID73GLAFTBTS4KY')\n",
        "df.head()"
      ],
      "execution_count": 8,
      "outputs": [
        {
          "output_type": "execute_result",
          "data": {
            "text/html": [
              "<div>\n",
              "<style scoped>\n",
              "    .dataframe tbody tr th:only-of-type {\n",
              "        vertical-align: middle;\n",
              "    }\n",
              "\n",
              "    .dataframe tbody tr th {\n",
              "        vertical-align: top;\n",
              "    }\n",
              "\n",
              "    .dataframe thead th {\n",
              "        text-align: right;\n",
              "    }\n",
              "</style>\n",
              "<table border=\"1\" class=\"dataframe\">\n",
              "  <thead>\n",
              "    <tr style=\"text-align: right;\">\n",
              "      <th></th>\n",
              "      <th>PatientID</th>\n",
              "      <th>DoubleLimbSupport</th>\n",
              "      <th>MI_Stance</th>\n",
              "      <th>LI_Stance</th>\n",
              "      <th>StepWidth</th>\n",
              "      <th>MI_StepLength</th>\n",
              "      <th>LI_StepLength</th>\n",
              "      <th>MI_ToeHeight</th>\n",
              "      <th>LI_ToeHeight</th>\n",
              "      <th>MI_HipFlexion_Extension</th>\n",
              "      <th>LI_HipFlexion_Extension</th>\n",
              "      <th>MI_HipAbduction_Adduction</th>\n",
              "      <th>LI_HipAbduction_Adduction</th>\n",
              "      <th>MI_KneeFlexion_Extension</th>\n",
              "      <th>LI_KneeFlexion_Extension</th>\n",
              "      <th>MI_AnkleFlexion_Extension</th>\n",
              "      <th>LI_AnkleFlexion_Extension</th>\n",
              "      <th>SpineLateral_Flexion</th>\n",
              "      <th>SpineFlexion_Extension</th>\n",
              "      <th>C7TrajectoryLength</th>\n",
              "      <th>COMML</th>\n",
              "      <th>COMAP</th>\n",
              "      <th>HipASI</th>\n",
              "      <th>KneeASI</th>\n",
              "      <th>AnkleASI</th>\n",
              "      <th>LegPhaseDispersion</th>\n",
              "      <th>SSDMI_HipMI_Knee</th>\n",
              "      <th>SSDLI_HipLI_Knee</th>\n",
              "      <th>SSDMI_KneeMI_Ankle</th>\n",
              "      <th>SSDLI_KneeLI_Ankle</th>\n",
              "      <th>ACCMI_HipMI_Knee</th>\n",
              "      <th>ACCLI_HipLI_Knee</th>\n",
              "      <th>ACCMI_KneeMI_Ankle</th>\n",
              "      <th>ACCLI_KneeLI_Ankle</th>\n",
              "      <th>COVMI_StepLength</th>\n",
              "      <th>COVLI_StepLength</th>\n",
              "      <th>COVStepWidth</th>\n",
              "      <th>COVC7</th>\n",
              "      <th>6MWT</th>\n",
              "    </tr>\n",
              "  </thead>\n",
              "  <tbody>\n",
              "    <tr>\n",
              "      <th>0</th>\n",
              "      <td>1</td>\n",
              "      <td>40.561167</td>\n",
              "      <td>70.707071</td>\n",
              "      <td>71.277997</td>\n",
              "      <td>103.659175</td>\n",
              "      <td>470.334541</td>\n",
              "      <td>476.277828</td>\n",
              "      <td>27.493149</td>\n",
              "      <td>27.491118</td>\n",
              "      <td>37.735770</td>\n",
              "      <td>36.034530</td>\n",
              "      <td>11.697101</td>\n",
              "      <td>10.913051</td>\n",
              "      <td>50.162964</td>\n",
              "      <td>49.494401</td>\n",
              "      <td>28.165459</td>\n",
              "      <td>30.636414</td>\n",
              "      <td>0.894091</td>\n",
              "      <td>-4.535361</td>\n",
              "      <td>145.846073</td>\n",
              "      <td>47.730483</td>\n",
              "      <td>17.908042</td>\n",
              "      <td>4.472639</td>\n",
              "      <td>2.770041</td>\n",
              "      <td>8.493871</td>\n",
              "      <td>49.667878</td>\n",
              "      <td>0.914553</td>\n",
              "      <td>1.199465</td>\n",
              "      <td>2.022550</td>\n",
              "      <td>1.564936</td>\n",
              "      <td>0.992296</td>\n",
              "      <td>0.993904</td>\n",
              "      <td>0.977612</td>\n",
              "      <td>0.987868</td>\n",
              "      <td>0.025409</td>\n",
              "      <td>0.020163</td>\n",
              "      <td>0.102948</td>\n",
              "      <td>0.066306</td>\n",
              "      <td>608</td>\n",
              "    </tr>\n",
              "    <tr>\n",
              "      <th>1</th>\n",
              "      <td>2</td>\n",
              "      <td>37.439614</td>\n",
              "      <td>69.169960</td>\n",
              "      <td>69.872639</td>\n",
              "      <td>113.192750</td>\n",
              "      <td>445.427896</td>\n",
              "      <td>411.142245</td>\n",
              "      <td>47.798526</td>\n",
              "      <td>24.677593</td>\n",
              "      <td>36.310316</td>\n",
              "      <td>35.028409</td>\n",
              "      <td>14.951478</td>\n",
              "      <td>18.227931</td>\n",
              "      <td>55.297972</td>\n",
              "      <td>45.591811</td>\n",
              "      <td>20.402975</td>\n",
              "      <td>20.150739</td>\n",
              "      <td>-0.384519</td>\n",
              "      <td>-6.038282</td>\n",
              "      <td>163.916030</td>\n",
              "      <td>39.272235</td>\n",
              "      <td>24.458508</td>\n",
              "      <td>4.456110</td>\n",
              "      <td>17.400092</td>\n",
              "      <td>10.894105</td>\n",
              "      <td>50.917693</td>\n",
              "      <td>2.020207</td>\n",
              "      <td>1.366663</td>\n",
              "      <td>4.226179</td>\n",
              "      <td>2.286283</td>\n",
              "      <td>0.970886</td>\n",
              "      <td>0.976266</td>\n",
              "      <td>0.935097</td>\n",
              "      <td>0.954622</td>\n",
              "      <td>0.045577</td>\n",
              "      <td>0.043309</td>\n",
              "      <td>0.255861</td>\n",
              "      <td>0.071024</td>\n",
              "      <td>580</td>\n",
              "    </tr>\n",
              "    <tr>\n",
              "      <th>2</th>\n",
              "      <td>3</td>\n",
              "      <td>38.578972</td>\n",
              "      <td>70.270891</td>\n",
              "      <td>69.788797</td>\n",
              "      <td>98.529591</td>\n",
              "      <td>480.244244</td>\n",
              "      <td>453.768167</td>\n",
              "      <td>16.184813</td>\n",
              "      <td>23.731106</td>\n",
              "      <td>40.643418</td>\n",
              "      <td>35.302048</td>\n",
              "      <td>8.062037</td>\n",
              "      <td>7.108703</td>\n",
              "      <td>39.130164</td>\n",
              "      <td>24.811085</td>\n",
              "      <td>18.743314</td>\n",
              "      <td>24.410080</td>\n",
              "      <td>-3.116071</td>\n",
              "      <td>-11.106234</td>\n",
              "      <td>198.529211</td>\n",
              "      <td>59.172352</td>\n",
              "      <td>27.583166</td>\n",
              "      <td>13.060106</td>\n",
              "      <td>36.419205</td>\n",
              "      <td>22.860943</td>\n",
              "      <td>49.939540</td>\n",
              "      <td>3.285648</td>\n",
              "      <td>3.978193</td>\n",
              "      <td>4.014319</td>\n",
              "      <td>4.701067</td>\n",
              "      <td>0.969292</td>\n",
              "      <td>0.985264</td>\n",
              "      <td>0.954472</td>\n",
              "      <td>0.950329</td>\n",
              "      <td>0.027551</td>\n",
              "      <td>0.034217</td>\n",
              "      <td>0.122458</td>\n",
              "      <td>0.070346</td>\n",
              "      <td>660</td>\n",
              "    </tr>\n",
              "    <tr>\n",
              "      <th>3</th>\n",
              "      <td>4</td>\n",
              "      <td>38.978015</td>\n",
              "      <td>69.815805</td>\n",
              "      <td>70.647653</td>\n",
              "      <td>120.233731</td>\n",
              "      <td>440.851850</td>\n",
              "      <td>422.273628</td>\n",
              "      <td>27.509750</td>\n",
              "      <td>32.613873</td>\n",
              "      <td>33.884592</td>\n",
              "      <td>34.719273</td>\n",
              "      <td>8.247178</td>\n",
              "      <td>10.649617</td>\n",
              "      <td>33.199151</td>\n",
              "      <td>48.882775</td>\n",
              "      <td>20.658857</td>\n",
              "      <td>19.807507</td>\n",
              "      <td>-3.274720</td>\n",
              "      <td>-15.361361</td>\n",
              "      <td>225.328160</td>\n",
              "      <td>54.830990</td>\n",
              "      <td>29.374773</td>\n",
              "      <td>5.315396</td>\n",
              "      <td>31.926865</td>\n",
              "      <td>11.785816</td>\n",
              "      <td>51.810222</td>\n",
              "      <td>1.845620</td>\n",
              "      <td>2.717135</td>\n",
              "      <td>2.657878</td>\n",
              "      <td>3.207750</td>\n",
              "      <td>0.977331</td>\n",
              "      <td>0.974214</td>\n",
              "      <td>0.950128</td>\n",
              "      <td>0.959368</td>\n",
              "      <td>0.068034</td>\n",
              "      <td>0.080128</td>\n",
              "      <td>0.175179</td>\n",
              "      <td>0.103513</td>\n",
              "      <td>435</td>\n",
              "    </tr>\n",
              "    <tr>\n",
              "      <th>4</th>\n",
              "      <td>5</td>\n",
              "      <td>38.909091</td>\n",
              "      <td>69.979798</td>\n",
              "      <td>70.303030</td>\n",
              "      <td>62.236637</td>\n",
              "      <td>425.175593</td>\n",
              "      <td>420.913803</td>\n",
              "      <td>23.223134</td>\n",
              "      <td>25.383125</td>\n",
              "      <td>32.135633</td>\n",
              "      <td>32.089734</td>\n",
              "      <td>9.092947</td>\n",
              "      <td>7.989464</td>\n",
              "      <td>53.502745</td>\n",
              "      <td>55.649666</td>\n",
              "      <td>22.757721</td>\n",
              "      <td>29.166064</td>\n",
              "      <td>-0.893139</td>\n",
              "      <td>0.870194</td>\n",
              "      <td>166.756233</td>\n",
              "      <td>36.316662</td>\n",
              "      <td>21.730780</td>\n",
              "      <td>3.754159</td>\n",
              "      <td>4.257673</td>\n",
              "      <td>21.511553</td>\n",
              "      <td>49.496731</td>\n",
              "      <td>2.288559</td>\n",
              "      <td>2.089971</td>\n",
              "      <td>2.350893</td>\n",
              "      <td>2.046244</td>\n",
              "      <td>0.982626</td>\n",
              "      <td>0.988945</td>\n",
              "      <td>0.964738</td>\n",
              "      <td>0.982626</td>\n",
              "      <td>0.035682</td>\n",
              "      <td>0.030656</td>\n",
              "      <td>0.377876</td>\n",
              "      <td>0.079762</td>\n",
              "      <td>683</td>\n",
              "    </tr>\n",
              "  </tbody>\n",
              "</table>\n",
              "</div>"
            ],
            "text/plain": [
              "   PatientID  DoubleLimbSupport  MI_Stance  ...  COVStepWidth     COVC7  6MWT\n",
              "0          1          40.561167  70.707071  ...      0.102948  0.066306   608\n",
              "1          2          37.439614  69.169960  ...      0.255861  0.071024   580\n",
              "2          3          38.578972  70.270891  ...      0.122458  0.070346   660\n",
              "3          4          38.978015  69.815805  ...      0.175179  0.103513   435\n",
              "4          5          38.909091  69.979798  ...      0.377876  0.079762   683\n",
              "\n",
              "[5 rows x 39 columns]"
            ]
          },
          "metadata": {},
          "execution_count": 8
        }
      ]
    },
    {
      "cell_type": "code",
      "metadata": {
        "colab": {
          "base_uri": "https://localhost:8080/"
        },
        "id": "eB2eVfI0Q8H2",
        "outputId": "c5d76675-899c-4336-e59f-ea9d24aabbdc"
      },
      "source": [
        "df.info()"
      ],
      "execution_count": 9,
      "outputs": [
        {
          "output_type": "stream",
          "name": "stdout",
          "text": [
            "<class 'pandas.core.frame.DataFrame'>\n",
            "RangeIndex: 71 entries, 0 to 70\n",
            "Data columns (total 39 columns):\n",
            " #   Column                     Non-Null Count  Dtype  \n",
            "---  ------                     --------------  -----  \n",
            " 0   PatientID                  71 non-null     int64  \n",
            " 1   DoubleLimbSupport          71 non-null     float64\n",
            " 2   MI_Stance                  71 non-null     float64\n",
            " 3   LI_Stance                  71 non-null     float64\n",
            " 4   StepWidth                  71 non-null     float64\n",
            " 5   MI_StepLength              71 non-null     float64\n",
            " 6   LI_StepLength              71 non-null     float64\n",
            " 7   MI_ToeHeight               71 non-null     float64\n",
            " 8   LI_ToeHeight               71 non-null     float64\n",
            " 9   MI_HipFlexion_Extension    71 non-null     float64\n",
            " 10  LI_HipFlexion_Extension    71 non-null     float64\n",
            " 11  MI_HipAbduction_Adduction  71 non-null     float64\n",
            " 12  LI_HipAbduction_Adduction  71 non-null     float64\n",
            " 13  MI_KneeFlexion_Extension   71 non-null     float64\n",
            " 14  LI_KneeFlexion_Extension   71 non-null     float64\n",
            " 15  MI_AnkleFlexion_Extension  71 non-null     float64\n",
            " 16  LI_AnkleFlexion_Extension  71 non-null     float64\n",
            " 17  SpineLateral_Flexion       71 non-null     float64\n",
            " 18  SpineFlexion_Extension     71 non-null     float64\n",
            " 19  C7TrajectoryLength         71 non-null     float64\n",
            " 20  COMML                      71 non-null     float64\n",
            " 21  COMAP                      71 non-null     float64\n",
            " 22  HipASI                     71 non-null     float64\n",
            " 23  KneeASI                    71 non-null     float64\n",
            " 24  AnkleASI                   71 non-null     float64\n",
            " 25  LegPhaseDispersion         71 non-null     float64\n",
            " 26  SSDMI_HipMI_Knee           71 non-null     float64\n",
            " 27  SSDLI_HipLI_Knee           71 non-null     float64\n",
            " 28  SSDMI_KneeMI_Ankle         71 non-null     float64\n",
            " 29  SSDLI_KneeLI_Ankle         71 non-null     float64\n",
            " 30  ACCMI_HipMI_Knee           71 non-null     float64\n",
            " 31  ACCLI_HipLI_Knee           71 non-null     float64\n",
            " 32  ACCMI_KneeMI_Ankle         71 non-null     float64\n",
            " 33  ACCLI_KneeLI_Ankle         71 non-null     float64\n",
            " 34  COVMI_StepLength           71 non-null     float64\n",
            " 35  COVLI_StepLength           71 non-null     float64\n",
            " 36  COVStepWidth               71 non-null     float64\n",
            " 37  COVC7                      71 non-null     float64\n",
            " 38  6MWT                       71 non-null     int64  \n",
            "dtypes: float64(37), int64(2)\n",
            "memory usage: 21.8 KB\n"
          ]
        }
      ]
    },
    {
      "cell_type": "code",
      "metadata": {
        "colab": {
          "base_uri": "https://localhost:8080/",
          "height": 320
        },
        "id": "f2rUnqQRQ-98",
        "outputId": "1ec0e6bc-d497-4102-e37e-cd6b3aeaef75"
      },
      "source": [
        "df.describe()"
      ],
      "execution_count": 10,
      "outputs": [
        {
          "output_type": "execute_result",
          "data": {
            "text/html": [
              "<div>\n",
              "<style scoped>\n",
              "    .dataframe tbody tr th:only-of-type {\n",
              "        vertical-align: middle;\n",
              "    }\n",
              "\n",
              "    .dataframe tbody tr th {\n",
              "        vertical-align: top;\n",
              "    }\n",
              "\n",
              "    .dataframe thead th {\n",
              "        text-align: right;\n",
              "    }\n",
              "</style>\n",
              "<table border=\"1\" class=\"dataframe\">\n",
              "  <thead>\n",
              "    <tr style=\"text-align: right;\">\n",
              "      <th></th>\n",
              "      <th>PatientID</th>\n",
              "      <th>DoubleLimbSupport</th>\n",
              "      <th>MI_Stance</th>\n",
              "      <th>LI_Stance</th>\n",
              "      <th>StepWidth</th>\n",
              "      <th>MI_StepLength</th>\n",
              "      <th>LI_StepLength</th>\n",
              "      <th>MI_ToeHeight</th>\n",
              "      <th>LI_ToeHeight</th>\n",
              "      <th>MI_HipFlexion_Extension</th>\n",
              "      <th>LI_HipFlexion_Extension</th>\n",
              "      <th>MI_HipAbduction_Adduction</th>\n",
              "      <th>LI_HipAbduction_Adduction</th>\n",
              "      <th>MI_KneeFlexion_Extension</th>\n",
              "      <th>LI_KneeFlexion_Extension</th>\n",
              "      <th>MI_AnkleFlexion_Extension</th>\n",
              "      <th>LI_AnkleFlexion_Extension</th>\n",
              "      <th>SpineLateral_Flexion</th>\n",
              "      <th>SpineFlexion_Extension</th>\n",
              "      <th>C7TrajectoryLength</th>\n",
              "      <th>COMML</th>\n",
              "      <th>COMAP</th>\n",
              "      <th>HipASI</th>\n",
              "      <th>KneeASI</th>\n",
              "      <th>AnkleASI</th>\n",
              "      <th>LegPhaseDispersion</th>\n",
              "      <th>SSDMI_HipMI_Knee</th>\n",
              "      <th>SSDLI_HipLI_Knee</th>\n",
              "      <th>SSDMI_KneeMI_Ankle</th>\n",
              "      <th>SSDLI_KneeLI_Ankle</th>\n",
              "      <th>ACCMI_HipMI_Knee</th>\n",
              "      <th>ACCLI_HipLI_Knee</th>\n",
              "      <th>ACCMI_KneeMI_Ankle</th>\n",
              "      <th>ACCLI_KneeLI_Ankle</th>\n",
              "      <th>COVMI_StepLength</th>\n",
              "      <th>COVLI_StepLength</th>\n",
              "      <th>COVStepWidth</th>\n",
              "      <th>COVC7</th>\n",
              "      <th>6MWT</th>\n",
              "    </tr>\n",
              "  </thead>\n",
              "  <tbody>\n",
              "    <tr>\n",
              "      <th>count</th>\n",
              "      <td>71.000000</td>\n",
              "      <td>71.000000</td>\n",
              "      <td>71.000000</td>\n",
              "      <td>71.000000</td>\n",
              "      <td>71.000000</td>\n",
              "      <td>71.000000</td>\n",
              "      <td>71.000000</td>\n",
              "      <td>71.000000</td>\n",
              "      <td>71.000000</td>\n",
              "      <td>71.000000</td>\n",
              "      <td>71.000000</td>\n",
              "      <td>71.000000</td>\n",
              "      <td>71.000000</td>\n",
              "      <td>71.000000</td>\n",
              "      <td>71.000000</td>\n",
              "      <td>71.000000</td>\n",
              "      <td>71.000000</td>\n",
              "      <td>71.000000</td>\n",
              "      <td>71.000000</td>\n",
              "      <td>71.000000</td>\n",
              "      <td>71.000000</td>\n",
              "      <td>71.000000</td>\n",
              "      <td>71.000000</td>\n",
              "      <td>71.000000</td>\n",
              "      <td>71.000000</td>\n",
              "      <td>71.000000</td>\n",
              "      <td>71.000000</td>\n",
              "      <td>71.000000</td>\n",
              "      <td>71.000000</td>\n",
              "      <td>71.000000</td>\n",
              "      <td>71.000000</td>\n",
              "      <td>71.000000</td>\n",
              "      <td>71.000000</td>\n",
              "      <td>71.000000</td>\n",
              "      <td>71.000000</td>\n",
              "      <td>71.000000</td>\n",
              "      <td>71.000000</td>\n",
              "      <td>71.000000</td>\n",
              "      <td>71.000000</td>\n",
              "    </tr>\n",
              "    <tr>\n",
              "      <th>mean</th>\n",
              "      <td>36.000000</td>\n",
              "      <td>38.670674</td>\n",
              "      <td>69.207431</td>\n",
              "      <td>70.890831</td>\n",
              "      <td>128.141952</td>\n",
              "      <td>428.559623</td>\n",
              "      <td>413.267816</td>\n",
              "      <td>25.669494</td>\n",
              "      <td>26.156560</td>\n",
              "      <td>36.261823</td>\n",
              "      <td>38.733822</td>\n",
              "      <td>9.719733</td>\n",
              "      <td>9.977813</td>\n",
              "      <td>42.453426</td>\n",
              "      <td>46.905200</td>\n",
              "      <td>23.172610</td>\n",
              "      <td>27.201306</td>\n",
              "      <td>0.154338</td>\n",
              "      <td>-3.126009</td>\n",
              "      <td>214.067334</td>\n",
              "      <td>49.979401</td>\n",
              "      <td>32.366295</td>\n",
              "      <td>11.280767</td>\n",
              "      <td>22.743480</td>\n",
              "      <td>24.301930</td>\n",
              "      <td>49.777952</td>\n",
              "      <td>3.412371</td>\n",
              "      <td>2.878812</td>\n",
              "      <td>4.756610</td>\n",
              "      <td>4.166358</td>\n",
              "      <td>0.957404</td>\n",
              "      <td>0.973574</td>\n",
              "      <td>0.922246</td>\n",
              "      <td>0.936674</td>\n",
              "      <td>0.055576</td>\n",
              "      <td>0.056325</td>\n",
              "      <td>0.212828</td>\n",
              "      <td>0.089741</td>\n",
              "      <td>482.338028</td>\n",
              "    </tr>\n",
              "    <tr>\n",
              "      <th>std</th>\n",
              "      <td>20.639767</td>\n",
              "      <td>2.845055</td>\n",
              "      <td>2.200124</td>\n",
              "      <td>1.639531</td>\n",
              "      <td>42.274082</td>\n",
              "      <td>51.347497</td>\n",
              "      <td>53.174902</td>\n",
              "      <td>11.576406</td>\n",
              "      <td>10.034006</td>\n",
              "      <td>5.988194</td>\n",
              "      <td>5.616207</td>\n",
              "      <td>2.995576</td>\n",
              "      <td>2.909923</td>\n",
              "      <td>13.889039</td>\n",
              "      <td>11.766448</td>\n",
              "      <td>9.516568</td>\n",
              "      <td>13.277136</td>\n",
              "      <td>4.118837</td>\n",
              "      <td>8.980472</td>\n",
              "      <td>61.834949</td>\n",
              "      <td>14.957141</td>\n",
              "      <td>11.134593</td>\n",
              "      <td>9.888739</td>\n",
              "      <td>18.667395</td>\n",
              "      <td>14.105219</td>\n",
              "      <td>3.127885</td>\n",
              "      <td>1.689176</td>\n",
              "      <td>1.148371</td>\n",
              "      <td>2.155543</td>\n",
              "      <td>1.856664</td>\n",
              "      <td>0.040118</td>\n",
              "      <td>0.012754</td>\n",
              "      <td>0.053022</td>\n",
              "      <td>0.038580</td>\n",
              "      <td>0.023094</td>\n",
              "      <td>0.020388</td>\n",
              "      <td>0.205449</td>\n",
              "      <td>0.024700</td>\n",
              "      <td>114.369819</td>\n",
              "    </tr>\n",
              "    <tr>\n",
              "      <th>min</th>\n",
              "      <td>1.000000</td>\n",
              "      <td>30.610452</td>\n",
              "      <td>62.892079</td>\n",
              "      <td>67.935768</td>\n",
              "      <td>26.297509</td>\n",
              "      <td>297.112137</td>\n",
              "      <td>302.497942</td>\n",
              "      <td>7.331035</td>\n",
              "      <td>-22.324992</td>\n",
              "      <td>22.483565</td>\n",
              "      <td>29.260143</td>\n",
              "      <td>3.805951</td>\n",
              "      <td>4.523357</td>\n",
              "      <td>13.517853</td>\n",
              "      <td>11.132290</td>\n",
              "      <td>11.701314</td>\n",
              "      <td>12.386806</td>\n",
              "      <td>-9.322600</td>\n",
              "      <td>-21.396708</td>\n",
              "      <td>109.992634</td>\n",
              "      <td>25.197813</td>\n",
              "      <td>14.667634</td>\n",
              "      <td>2.994966</td>\n",
              "      <td>2.770041</td>\n",
              "      <td>6.364573</td>\n",
              "      <td>38.984306</td>\n",
              "      <td>0.914553</td>\n",
              "      <td>0.959185</td>\n",
              "      <td>2.022550</td>\n",
              "      <td>1.263138</td>\n",
              "      <td>0.765258</td>\n",
              "      <td>0.927676</td>\n",
              "      <td>0.711280</td>\n",
              "      <td>0.792681</td>\n",
              "      <td>0.025409</td>\n",
              "      <td>0.020163</td>\n",
              "      <td>0.063025</td>\n",
              "      <td>0.041008</td>\n",
              "      <td>213.000000</td>\n",
              "    </tr>\n",
              "    <tr>\n",
              "      <th>25%</th>\n",
              "      <td>18.500000</td>\n",
              "      <td>37.293571</td>\n",
              "      <td>68.288440</td>\n",
              "      <td>69.890023</td>\n",
              "      <td>103.596464</td>\n",
              "      <td>400.920225</td>\n",
              "      <td>376.306348</td>\n",
              "      <td>17.639732</td>\n",
              "      <td>21.694503</td>\n",
              "      <td>32.689287</td>\n",
              "      <td>35.623320</td>\n",
              "      <td>8.107850</td>\n",
              "      <td>7.986064</td>\n",
              "      <td>31.690820</td>\n",
              "      <td>40.264608</td>\n",
              "      <td>17.342436</td>\n",
              "      <td>20.343394</td>\n",
              "      <td>-2.697719</td>\n",
              "      <td>-8.954118</td>\n",
              "      <td>168.082235</td>\n",
              "      <td>38.647774</td>\n",
              "      <td>25.345833</td>\n",
              "      <td>5.383885</td>\n",
              "      <td>7.809788</td>\n",
              "      <td>13.152751</td>\n",
              "      <td>48.682990</td>\n",
              "      <td>2.156985</td>\n",
              "      <td>2.041673</td>\n",
              "      <td>3.235199</td>\n",
              "      <td>2.900508</td>\n",
              "      <td>0.956213</td>\n",
              "      <td>0.968982</td>\n",
              "      <td>0.904172</td>\n",
              "      <td>0.926034</td>\n",
              "      <td>0.038020</td>\n",
              "      <td>0.041570</td>\n",
              "      <td>0.126888</td>\n",
              "      <td>0.070187</td>\n",
              "      <td>405.000000</td>\n",
              "    </tr>\n",
              "    <tr>\n",
              "      <th>50%</th>\n",
              "      <td>36.000000</td>\n",
              "      <td>38.909091</td>\n",
              "      <td>69.696970</td>\n",
              "      <td>70.562771</td>\n",
              "      <td>127.964916</td>\n",
              "      <td>425.679220</td>\n",
              "      <td>409.894013</td>\n",
              "      <td>23.687495</td>\n",
              "      <td>26.732227</td>\n",
              "      <td>36.307242</td>\n",
              "      <td>37.846334</td>\n",
              "      <td>9.396934</td>\n",
              "      <td>9.640367</td>\n",
              "      <td>43.220008</td>\n",
              "      <td>49.273306</td>\n",
              "      <td>20.658857</td>\n",
              "      <td>23.455451</td>\n",
              "      <td>-0.308172</td>\n",
              "      <td>-2.933410</td>\n",
              "      <td>205.083427</td>\n",
              "      <td>47.709683</td>\n",
              "      <td>29.786343</td>\n",
              "      <td>7.686148</td>\n",
              "      <td>14.276303</td>\n",
              "      <td>20.893574</td>\n",
              "      <td>49.542661</td>\n",
              "      <td>3.046760</td>\n",
              "      <td>2.780643</td>\n",
              "      <td>4.134200</td>\n",
              "      <td>3.960648</td>\n",
              "      <td>0.971279</td>\n",
              "      <td>0.975856</td>\n",
              "      <td>0.934301</td>\n",
              "      <td>0.945753</td>\n",
              "      <td>0.050449</td>\n",
              "      <td>0.051855</td>\n",
              "      <td>0.163559</td>\n",
              "      <td>0.090471</td>\n",
              "      <td>474.000000</td>\n",
              "    </tr>\n",
              "    <tr>\n",
              "      <th>75%</th>\n",
              "      <td>53.500000</td>\n",
              "      <td>40.533366</td>\n",
              "      <td>70.485044</td>\n",
              "      <td>71.837422</td>\n",
              "      <td>150.261316</td>\n",
              "      <td>460.621021</td>\n",
              "      <td>447.999618</td>\n",
              "      <td>30.809345</td>\n",
              "      <td>29.806623</td>\n",
              "      <td>39.740237</td>\n",
              "      <td>40.601421</td>\n",
              "      <td>11.229954</td>\n",
              "      <td>11.331103</td>\n",
              "      <td>54.152209</td>\n",
              "      <td>55.144777</td>\n",
              "      <td>26.323950</td>\n",
              "      <td>30.705735</td>\n",
              "      <td>2.732839</td>\n",
              "      <td>2.480146</td>\n",
              "      <td>235.351191</td>\n",
              "      <td>58.433613</td>\n",
              "      <td>36.467336</td>\n",
              "      <td>13.282215</td>\n",
              "      <td>35.925427</td>\n",
              "      <td>31.341058</td>\n",
              "      <td>51.007897</td>\n",
              "      <td>4.104562</td>\n",
              "      <td>3.412531</td>\n",
              "      <td>5.796713</td>\n",
              "      <td>5.248047</td>\n",
              "      <td>0.978783</td>\n",
              "      <td>0.982278</td>\n",
              "      <td>0.956635</td>\n",
              "      <td>0.959583</td>\n",
              "      <td>0.065936</td>\n",
              "      <td>0.071929</td>\n",
              "      <td>0.235386</td>\n",
              "      <td>0.103346</td>\n",
              "      <td>580.000000</td>\n",
              "    </tr>\n",
              "    <tr>\n",
              "      <th>max</th>\n",
              "      <td>71.000000</td>\n",
              "      <td>45.727546</td>\n",
              "      <td>73.693456</td>\n",
              "      <td>76.262626</td>\n",
              "      <td>246.147689</td>\n",
              "      <td>562.426223</td>\n",
              "      <td>536.674484</td>\n",
              "      <td>75.188851</td>\n",
              "      <td>48.715432</td>\n",
              "      <td>56.234794</td>\n",
              "      <td>57.003163</td>\n",
              "      <td>19.080865</td>\n",
              "      <td>18.227931</td>\n",
              "      <td>74.401158</td>\n",
              "      <td>64.127072</td>\n",
              "      <td>72.264476</td>\n",
              "      <td>96.303639</td>\n",
              "      <td>7.941819</td>\n",
              "      <td>23.525453</td>\n",
              "      <td>453.240959</td>\n",
              "      <td>93.396725</td>\n",
              "      <td>69.630148</td>\n",
              "      <td>49.286937</td>\n",
              "      <td>67.914517</td>\n",
              "      <td>59.553515</td>\n",
              "      <td>57.474821</td>\n",
              "      <td>7.253001</td>\n",
              "      <td>7.156958</td>\n",
              "      <td>10.122751</td>\n",
              "      <td>9.584818</td>\n",
              "      <td>0.992296</td>\n",
              "      <td>0.993904</td>\n",
              "      <td>0.979680</td>\n",
              "      <td>0.987868</td>\n",
              "      <td>0.161571</td>\n",
              "      <td>0.107153</td>\n",
              "      <td>1.747591</td>\n",
              "      <td>0.157097</td>\n",
              "      <td>711.000000</td>\n",
              "    </tr>\n",
              "  </tbody>\n",
              "</table>\n",
              "</div>"
            ],
            "text/plain": [
              "       PatientID  DoubleLimbSupport  ...      COVC7        6MWT\n",
              "count  71.000000          71.000000  ...  71.000000   71.000000\n",
              "mean   36.000000          38.670674  ...   0.089741  482.338028\n",
              "std    20.639767           2.845055  ...   0.024700  114.369819\n",
              "min     1.000000          30.610452  ...   0.041008  213.000000\n",
              "25%    18.500000          37.293571  ...   0.070187  405.000000\n",
              "50%    36.000000          38.909091  ...   0.090471  474.000000\n",
              "75%    53.500000          40.533366  ...   0.103346  580.000000\n",
              "max    71.000000          45.727546  ...   0.157097  711.000000\n",
              "\n",
              "[8 rows x 39 columns]"
            ]
          },
          "metadata": {},
          "execution_count": 10
        }
      ]
    },
    {
      "cell_type": "markdown",
      "metadata": {
        "id": "4lbOKVADTwMo"
      },
      "source": [
        "# Data visualization"
      ]
    },
    {
      "cell_type": "code",
      "metadata": {
        "colab": {
          "base_uri": "https://localhost:8080/",
          "height": 81
        },
        "id": "SvzuYZDTUoJb",
        "outputId": "7c6551bd-91e0-4cc5-e63f-dd96fd17c87b"
      },
      "source": [
        "demographics.head(1)"
      ],
      "execution_count": 11,
      "outputs": [
        {
          "output_type": "execute_result",
          "data": {
            "text/html": [
              "<div>\n",
              "<style scoped>\n",
              "    .dataframe tbody tr th:only-of-type {\n",
              "        vertical-align: middle;\n",
              "    }\n",
              "\n",
              "    .dataframe tbody tr th {\n",
              "        vertical-align: top;\n",
              "    }\n",
              "\n",
              "    .dataframe thead th {\n",
              "        text-align: right;\n",
              "    }\n",
              "</style>\n",
              "<table border=\"1\" class=\"dataframe\">\n",
              "  <thead>\n",
              "    <tr style=\"text-align: right;\">\n",
              "      <th></th>\n",
              "      <th>PatientID</th>\n",
              "      <th>Gender</th>\n",
              "      <th>Age</th>\n",
              "      <th>Pathology</th>\n",
              "      <th>Disease_duration</th>\n",
              "      <th>EDSS</th>\n",
              "      <th>Lesion_Level</th>\n",
              "      <th>AISA</th>\n",
              "      <th>6MWT</th>\n",
              "      <th>MI_Leg</th>\n",
              "    </tr>\n",
              "  </thead>\n",
              "  <tbody>\n",
              "    <tr>\n",
              "      <th>0</th>\n",
              "      <td>1</td>\n",
              "      <td>F</td>\n",
              "      <td>45</td>\n",
              "      <td>SCI</td>\n",
              "      <td>12.0</td>\n",
              "      <td>NaN</td>\n",
              "      <td>T10</td>\n",
              "      <td>D</td>\n",
              "      <td>608</td>\n",
              "      <td>L</td>\n",
              "    </tr>\n",
              "  </tbody>\n",
              "</table>\n",
              "</div>"
            ],
            "text/plain": [
              "   PatientID Gender  Age  Pathology  ...  Lesion_Level  AISA 6MWT MI_Leg\n",
              "0          1      F    45       SCI  ...           T10     D  608      L\n",
              "\n",
              "[1 rows x 10 columns]"
            ]
          },
          "metadata": {},
          "execution_count": 11
        }
      ]
    },
    {
      "cell_type": "markdown",
      "metadata": {
        "id": "vYtzE-cCWuvS"
      },
      "source": [
        "Let's have a look at different boxplots describing the population distribution with respect to the 6MWT."
      ]
    },
    {
      "cell_type": "code",
      "metadata": {
        "colab": {
          "base_uri": "https://localhost:8080/",
          "height": 530
        },
        "id": "2hQH_SgUSkqy",
        "outputId": "d59d8143-6331-4f57-980a-445c4f03dc4b"
      },
      "source": [
        "plt.figure(figsize = (8,8))\n",
        "sns.boxplot(x = \"Gender\", y = '6MWT', data = demographics)\n",
        "plt.ylabel('6MWT [m]')\n",
        "plt.title('Six-minute walk test across gender')"
      ],
      "execution_count": 12,
      "outputs": [
        {
          "output_type": "execute_result",
          "data": {
            "text/plain": [
              "Text(0.5, 1.0, 'Six-minute walk test across gender')"
            ]
          },
          "metadata": {},
          "execution_count": 12
        },
        {
          "output_type": "display_data",
          "data": {
            "image/png": "[encoded data removed]",
            "text/plain": [
              "<Figure size 576x576 with 1 Axes>"
            ]
          },
          "metadata": {
            "needs_background": "light"
          }
        }
      ]
    },
    {
      "cell_type": "code",
      "metadata": {
        "colab": {
          "base_uri": "https://localhost:8080/"
        },
        "id": "YHxXp33zjOOh",
        "outputId": "e2ef853d-da5b-45d3-9e6c-e14cd36f80cb"
      },
      "source": [
        "demographics['Pathology'].value_counts()"
      ],
      "execution_count": 13,
      "outputs": [
        {
          "output_type": "execute_result",
          "data": {
            "text/plain": [
              "MS     39\n",
              "SCI    32\n",
              "Name: Pathology, dtype: int64"
            ]
          },
          "metadata": {},
          "execution_count": 13
        }
      ]
    },
    {
      "cell_type": "code",
      "metadata": {
        "colab": {
          "base_uri": "https://localhost:8080/",
          "height": 530
        },
        "id": "YEPYzuX-UXKz",
        "outputId": "e04ebe5d-03b9-48c4-9a38-aa4ba5b5d461"
      },
      "source": [
        "plt.figure(figsize = (8,8))\n",
        "sns.boxplot(x = \"Pathology\", y = '6MWT', data = demographics)\n",
        "plt.ylabel('6MWT [m]')\n",
        "plt.title('Six-minute walk test across pathology')"
      ],
      "execution_count": 14,
      "outputs": [
        {
          "output_type": "execute_result",
          "data": {
            "text/plain": [
              "Text(0.5, 1.0, 'Six-minute walk test across pathology')"
            ]
          },
          "metadata": {},
          "execution_count": 14
        },
        {
          "output_type": "display_data",
          "data": {
            "image/png": "[encoded data removed]",
            "text/plain": [
              "<Figure size 576x576 with 1 Axes>"
            ]
          },
          "metadata": {
            "needs_background": "light"
          }
        }
      ]
    },
    {
      "cell_type": "code",
      "metadata": {
        "colab": {
          "base_uri": "https://localhost:8080/",
          "height": 530
        },
        "id": "DJI9qiMAWniG",
        "outputId": "610b07f5-ddcf-4d38-955f-3012939afe18"
      },
      "source": [
        "mydem = demographics.sort_values(by = ['Lesion_Level'], ascending = True)\n",
        "plt.figure(figsize = (9,8))\n",
        "sns.boxplot(x = \"Lesion_Level\", y = '6MWT', data = mydem)\n",
        "plt.xlabel('Lesion level')\n",
        "plt.ylabel('6MWT [m]')\n",
        "plt.title('Six-minute walk test across SCI patients')"
      ],
      "execution_count": 26,
      "outputs": [
        {
          "output_type": "execute_result",
          "data": {
            "text/plain": [
              "Text(0.5, 1.0, 'Six-minute walk test across SCI patients')"
            ]
          },
          "metadata": {},
          "execution_count": 26
        },
        {
          "output_type": "display_data",
          "data": {
            "image/png": "[encoded data removed]",
            "text/plain": [
              "<Figure size 648x576 with 1 Axes>"
            ]
          },
          "metadata": {
            "needs_background": "light"
          }
        }
      ]
    },
    {
      "cell_type": "markdown",
      "metadata": {
        "id": "0g1L9ZIIjxrr"
      },
      "source": [
        "Let's see how the pathology is distributed along gender and age."
      ]
    },
    {
      "cell_type": "code",
      "metadata": {
        "colab": {
          "base_uri": "https://localhost:8080/",
          "height": 298
        },
        "id": "zQzBFzOhlGoE",
        "outputId": "922da9a6-17d4-4347-9656-0894523376d9"
      },
      "source": [
        "female = demographics['Gender'] == 'F'\n",
        "female_counts = demographics[female]['Pathology'].value_counts()\n",
        "male = demographics['Gender'] == 'M'\n",
        "male_counts = demographics[male]['Pathology'].value_counts()\n",
        "\n",
        "width=0.3\n",
        "plt.barh(male_counts.index, male_counts.values, width, alpha=0.4, color = 'blue', label = 'Male')\n",
        "plt.barh(female_counts.index, female_counts.values, width, alpha=0.4, color ='pink', label = 'Female')\n",
        "plt.legend()\n",
        "plt.title('MS and SCI distributions across gender')"
      ],
      "execution_count": 17,
      "outputs": [
        {
          "output_type": "execute_result",
          "data": {
            "text/plain": [
              "Text(0.5, 1.0, 'MS and SCI distributions across gender')"
            ]
          },
          "metadata": {},
          "execution_count": 17
        },
        {
          "output_type": "display_data",
          "data": {
            "image/png": "[encoded data removed]",
            "text/plain": [
              "<Figure size 432x288 with 1 Axes>"
            ]
          },
          "metadata": {
            "needs_background": "light"
          }
        }
      ]
    },
    {
      "cell_type": "markdown",
      "metadata": {
        "id": "bM4h78XtLDdo"
      },
      "source": [
        "From the bar plot we see that in population there are more men with SCI than women. "
      ]
    },
    {
      "cell_type": "code",
      "metadata": {
        "colab": {
          "base_uri": "https://localhost:8080/",
          "height": 700
        },
        "id": "gGQgtN55LCr2",
        "outputId": "5f3524e9-a3d6-4759-e6db-1a93e41cf547"
      },
      "source": [
        "MS  = demographics['Pathology'] == 'MS'\n",
        "MS_coutns = demographics[MS]['Age '].value_counts()\n",
        "\n",
        "SCI  = demographics['Pathology'] == 'SCI'\n",
        "SCI_coutns = demographics[SCI]['Age '].value_counts()\n",
        "\n",
        "plt.figure(figsize = (8,5))\n",
        "plt.bar(MS_coutns.index, MS_coutns.values)\n",
        "plt.xlabel('Age')\n",
        "plt.ylabel('Individual (counts)')\n",
        "plt.title('Age distribution in MS patients')\n",
        "\n",
        "plt.figure(figsize = (8,5))\n",
        "plt.bar(SCI_coutns.index, SCI_coutns.values)\n",
        "plt.xlabel('Age')\n",
        "plt.ylabel('Individual (counts)')\n",
        "plt.title('Age distribution in SCI patients')"
      ],
      "execution_count": 32,
      "outputs": [
        {
          "output_type": "execute_result",
          "data": {
            "text/plain": [
              "Text(0.5, 1.0, 'Age distribution in SCI patients')"
            ]
          },
          "metadata": {},
          "execution_count": 32
        },
        {
          "output_type": "display_data",
          "data": {
            "image/png": "[encoded data removed]",
            "text/plain": [
              "<Figure size 576x360 with 1 Axes>"
            ]
          },
          "metadata": {
            "needs_background": "light"
          }
        },
        {
          "output_type": "display_data",
          "data": {
            "image/png": "[encoded data removed]",
            "text/plain": [
              "<Figure size 576x360 with 1 Axes>"
            ]
          },
          "metadata": {
            "needs_background": "light"
          }
        }
      ]
    },
    {
      "cell_type": "markdown",
      "metadata": {
        "id": "3cwONrqv3BNZ"
      },
      "source": [
        "# Statistical analysis"
      ]
    },
    {
      "cell_type": "code",
      "metadata": {
        "id": "Jo-0oybP5rq6"
      },
      "source": [
        "from scipy import stats"
      ],
      "execution_count": 264,
      "outputs": []
    },
    {
      "cell_type": "markdown",
      "metadata": {
        "id": "Yjkz4Yb-3L_4"
      },
      "source": [
        "We would like to know if there is a significant difference between women in men in the 6MWT outcome."
      ]
    },
    {
      "cell_type": "code",
      "metadata": {
        "colab": {
          "base_uri": "https://localhost:8080/"
        },
        "id": "zt2qBStq3Lc_",
        "outputId": "cbb484cb-7ed7-44f3-ed01-e4b56705f7b4"
      },
      "source": [
        "females = demographics[demographics['Gender'] == 'F']['6MWT']\n",
        "males = demographics[demographics['Gender'] == 'M']['6MWT']\n",
        "stats.ttest_ind(females, males)"
      ],
      "execution_count": 265,
      "outputs": [
        {
          "output_type": "execute_result",
          "data": {
            "text/plain": [
              "Ttest_indResult(statistic=-0.509592914855578, pvalue=0.611962730278609)"
            ]
          },
          "metadata": {},
          "execution_count": 265
        }
      ]
    },
    {
      "cell_type": "markdown",
      "metadata": {
        "id": "rP_N4YN_6qlm"
      },
      "source": [
        "There is no significant difference between males and females in the 6MWT outcome."
      ]
    },
    {
      "cell_type": "markdown",
      "metadata": {
        "id": "NrSid2jt6yfN"
      },
      "source": [
        ""
      ]
    },
    {
      "cell_type": "markdown",
      "metadata": {
        "id": "wM6W32XgOZkt"
      },
      "source": [
        "# Correlation analysis\n",
        "\n",
        "We would like to see which gait parameters are correlated with the 6MWT."
      ]
    },
    {
      "cell_type": "code",
      "metadata": {
        "colab": {
          "base_uri": "https://localhost:8080/",
          "height": 101
        },
        "id": "re0L02yJhs06",
        "outputId": "af3d3767-8ca7-402f-c041-22710373b708"
      },
      "source": [
        "df.head(1)"
      ],
      "execution_count": 174,
      "outputs": [
        {
          "output_type": "execute_result",
          "data": {
            "text/html": [
              "<div>\n",
              "<style scoped>\n",
              "    .dataframe tbody tr th:only-of-type {\n",
              "        vertical-align: middle;\n",
              "    }\n",
              "\n",
              "    .dataframe tbody tr th {\n",
              "        vertical-align: top;\n",
              "    }\n",
              "\n",
              "    .dataframe thead th {\n",
              "        text-align: right;\n",
              "    }\n",
              "</style>\n",
              "<table border=\"1\" class=\"dataframe\">\n",
              "  <thead>\n",
              "    <tr style=\"text-align: right;\">\n",
              "      <th></th>\n",
              "      <th>PatientID</th>\n",
              "      <th>DoubleLimbSupport</th>\n",
              "      <th>MI_Stance</th>\n",
              "      <th>LI_Stance</th>\n",
              "      <th>StepWidth</th>\n",
              "      <th>MI_StepLength</th>\n",
              "      <th>LI_StepLength</th>\n",
              "      <th>MI_ToeHeight</th>\n",
              "      <th>LI_ToeHeight</th>\n",
              "      <th>MI_HipFlexion_Extension</th>\n",
              "      <th>LI_HipFlexion_Extension</th>\n",
              "      <th>MI_HipAbduction_Adduction</th>\n",
              "      <th>LI_HipAbduction_Adduction</th>\n",
              "      <th>MI_KneeFlexion_Extension</th>\n",
              "      <th>LI_KneeFlexion_Extension</th>\n",
              "      <th>MI_AnkleFlexion_Extension</th>\n",
              "      <th>LI_AnkleFlexion_Extension</th>\n",
              "      <th>SpineLateral_Flexion</th>\n",
              "      <th>SpineFlexion_Extension</th>\n",
              "      <th>C7TrajectoryLength</th>\n",
              "      <th>COMML</th>\n",
              "      <th>COMAP</th>\n",
              "      <th>HipASI</th>\n",
              "      <th>KneeASI</th>\n",
              "      <th>AnkleASI</th>\n",
              "      <th>LegPhaseDispersion</th>\n",
              "      <th>SSDMI_HipMI_Knee</th>\n",
              "      <th>SSDLI_HipLI_Knee</th>\n",
              "      <th>SSDMI_KneeMI_Ankle</th>\n",
              "      <th>SSDLI_KneeLI_Ankle</th>\n",
              "      <th>ACCMI_HipMI_Knee</th>\n",
              "      <th>ACCLI_HipLI_Knee</th>\n",
              "      <th>ACCMI_KneeMI_Ankle</th>\n",
              "      <th>ACCLI_KneeLI_Ankle</th>\n",
              "      <th>COVMI_StepLength</th>\n",
              "      <th>COVLI_StepLength</th>\n",
              "      <th>COVStepWidth</th>\n",
              "      <th>COVC7</th>\n",
              "      <th>6MWT</th>\n",
              "    </tr>\n",
              "  </thead>\n",
              "  <tbody>\n",
              "    <tr>\n",
              "      <th>0</th>\n",
              "      <td>1</td>\n",
              "      <td>40.561167</td>\n",
              "      <td>70.707071</td>\n",
              "      <td>71.277997</td>\n",
              "      <td>103.659175</td>\n",
              "      <td>470.334541</td>\n",
              "      <td>476.277828</td>\n",
              "      <td>27.493149</td>\n",
              "      <td>27.491118</td>\n",
              "      <td>37.73577</td>\n",
              "      <td>36.03453</td>\n",
              "      <td>11.697101</td>\n",
              "      <td>10.913051</td>\n",
              "      <td>50.162964</td>\n",
              "      <td>49.494401</td>\n",
              "      <td>28.165459</td>\n",
              "      <td>30.636414</td>\n",
              "      <td>0.894091</td>\n",
              "      <td>-4.535361</td>\n",
              "      <td>145.846073</td>\n",
              "      <td>47.730483</td>\n",
              "      <td>17.908042</td>\n",
              "      <td>4.472639</td>\n",
              "      <td>2.770041</td>\n",
              "      <td>8.493871</td>\n",
              "      <td>49.667878</td>\n",
              "      <td>0.914553</td>\n",
              "      <td>1.199465</td>\n",
              "      <td>2.02255</td>\n",
              "      <td>1.564936</td>\n",
              "      <td>0.992296</td>\n",
              "      <td>0.993904</td>\n",
              "      <td>0.977612</td>\n",
              "      <td>0.987868</td>\n",
              "      <td>0.025409</td>\n",
              "      <td>0.020163</td>\n",
              "      <td>0.102948</td>\n",
              "      <td>0.066306</td>\n",
              "      <td>608</td>\n",
              "    </tr>\n",
              "  </tbody>\n",
              "</table>\n",
              "</div>"
            ],
            "text/plain": [
              "   PatientID  DoubleLimbSupport  MI_Stance  ...  COVStepWidth     COVC7  6MWT\n",
              "0          1          40.561167  70.707071  ...      0.102948  0.066306   608\n",
              "\n",
              "[1 rows x 39 columns]"
            ]
          },
          "metadata": {},
          "execution_count": 174
        }
      ]
    },
    {
      "cell_type": "markdown",
      "metadata": {
        "id": "JgeSJkGWx35G"
      },
      "source": [
        "Let's see if we have empty values"
      ]
    },
    {
      "cell_type": "code",
      "metadata": {
        "colab": {
          "base_uri": "https://localhost:8080/"
        },
        "id": "6bm7vhlox3Rs",
        "outputId": "4f85b044-4ca2-4712-ffa9-0e8838cb2d27"
      },
      "source": [
        "df.isna().sum()"
      ],
      "execution_count": 240,
      "outputs": [
        {
          "output_type": "execute_result",
          "data": {
            "text/plain": [
              "PatientID                    0\n",
              "DoubleLimbSupport            0\n",
              "MI_Stance                    0\n",
              "LI_Stance                    0\n",
              "StepWidth                    0\n",
              "MI_StepLength                0\n",
              "LI_StepLength                0\n",
              "MI_ToeHeight                 0\n",
              "LI_ToeHeight                 0\n",
              "MI_HipFlexion_Extension      0\n",
              "LI_HipFlexion_Extension      0\n",
              "MI_HipAbduction_Adduction    0\n",
              "LI_HipAbduction_Adduction    0\n",
              "MI_KneeFlexion_Extension     0\n",
              "LI_KneeFlexion_Extension     0\n",
              "MI_AnkleFlexion_Extension    0\n",
              "LI_AnkleFlexion_Extension    0\n",
              "SpineLateral_Flexion         0\n",
              "SpineFlexion_Extension       0\n",
              "C7TrajectoryLength           0\n",
              "COMML                        0\n",
              "COMAP                        0\n",
              "HipASI                       0\n",
              "KneeASI                      0\n",
              "AnkleASI                     0\n",
              "LegPhaseDispersion           0\n",
              "SSDMI_HipMI_Knee             0\n",
              "SSDLI_HipLI_Knee             0\n",
              "SSDMI_KneeMI_Ankle           0\n",
              "SSDLI_KneeLI_Ankle           0\n",
              "ACCMI_HipMI_Knee             0\n",
              "ACCLI_HipLI_Knee             0\n",
              "ACCMI_KneeMI_Ankle           0\n",
              "ACCLI_KneeLI_Ankle           0\n",
              "COVMI_StepLength             0\n",
              "COVLI_StepLength             0\n",
              "COVStepWidth                 0\n",
              "COVC7                        0\n",
              "6MWT                         0\n",
              "dtype: int64"
            ]
          },
          "metadata": {},
          "execution_count": 240
        }
      ]
    },
    {
      "cell_type": "markdown",
      "metadata": {
        "id": "pW_XSX-6hvX5"
      },
      "source": [
        "We do not have empty values."
      ]
    },
    {
      "cell_type": "markdown",
      "metadata": {
        "id": "7qgVCZr4YEsI"
      },
      "source": [
        "Let's have a look at the correlation matrix."
      ]
    },
    {
      "cell_type": "code",
      "metadata": {
        "colab": {
          "base_uri": "https://localhost:8080/",
          "height": 1000
        },
        "id": "V3Fe3vrhYD4N",
        "outputId": "46d5649c-fd37-436b-83c5-e42936b0592a"
      },
      "source": [
        "Data = df.drop(columns=['PatientID'])\n",
        "#correlation matrix\n",
        "corr=Data.corr()\n",
        "\n",
        "#plotting correlation matrix\n",
        "#plot just half of the correlation matrix\n",
        "mask = np.zeros_like(corr, dtype=np.bool)\n",
        "mask[np.triu_indices_from(mask)] = True\n",
        "plt.figure(figsize=(30, 30))\n",
        "cmap = sns.diverging_palette(220, 10, as_cmap=True)\n",
        "sns.heatmap(corr,cmap=cmap, mask= mask, vmax=1, cbar_kws={\"shrink\": .5})"
      ],
      "execution_count": 252,
      "outputs": [
        {
          "output_type": "execute_result",
          "data": {
            "text/plain": [
              "<matplotlib.axes._subplots.AxesSubplot at 0x7fd625c5b050>"
            ]
          },
          "metadata": {},
          "execution_count": 252
        },
        {
          "output_type": "display_data",
          "data": {
            "image/png": "[encoded data removed]",
            "text/plain": [
              "<Figure size 2160x2160 with 2 Axes>"
            ]
          },
          "metadata": {
            "needs_background": "light"
          }
        }
      ]
    },
    {
      "cell_type": "markdown",
      "metadata": {
        "id": "xVqJULxjY_ij"
      },
      "source": [
        "Let's have a look at the correlations with the 6MWT outocme that have a correlation coefficient higher than 0.5."
      ]
    },
    {
      "cell_type": "code",
      "metadata": {
        "colab": {
          "base_uri": "https://localhost:8080/"
        },
        "id": "kSM5gwm5ZG-g",
        "outputId": "295a0358-772f-4ed8-dff4-946cffaa9139"
      },
      "source": [
        "correlations = corr[abs(corr>.50)]['6MWT']\n",
        "correlations = correlations[correlations.notna()]\n",
        "correlations"
      ],
      "execution_count": 253,
      "outputs": [
        {
          "output_type": "execute_result",
          "data": {
            "text/plain": [
              "6MWT    1.0\n",
              "Name: 6MWT, dtype: float64"
            ]
          },
          "metadata": {},
          "execution_count": 253
        }
      ]
    },
    {
      "cell_type": "markdown",
      "metadata": {
        "id": "n1PYPIyLZZPn"
      },
      "source": [
        "We see that there is no variable that are correlated with the 6MWT outcome. From this result we can conclude that a simple correlation analysis cannot explain what variables may explain the 6MWT. Therefore we need a more advanced analysis, machine learning."
      ]
    },
    {
      "cell_type": "markdown",
      "metadata": {
        "id": "EozeOWr1Z_cg"
      },
      "source": [
        "# k-means clustering\n",
        "\n",
        "We would like to identify clusters in our dataset by applying k-means clustering."
      ]
    },
    {
      "cell_type": "code",
      "metadata": {
        "id": "Y6tNDyreaU-g"
      },
      "source": [
        "import sklearn as skl\n",
        "from sklearn.cluster import KMeans"
      ],
      "execution_count": 254,
      "outputs": []
    },
    {
      "cell_type": "code",
      "metadata": {
        "colab": {
          "base_uri": "https://localhost:8080/",
          "height": 101
        },
        "id": "KJl_jedqacL-",
        "outputId": "4da8488e-a482-40e7-89a2-0b0b5c1f85ae"
      },
      "source": [
        "Data.head(1)"
      ],
      "execution_count": 255,
      "outputs": [
        {
          "output_type": "execute_result",
          "data": {
            "text/html": [
              "<div>\n",
              "<style scoped>\n",
              "    .dataframe tbody tr th:only-of-type {\n",
              "        vertical-align: middle;\n",
              "    }\n",
              "\n",
              "    .dataframe tbody tr th {\n",
              "        vertical-align: top;\n",
              "    }\n",
              "\n",
              "    .dataframe thead th {\n",
              "        text-align: right;\n",
              "    }\n",
              "</style>\n",
              "<table border=\"1\" class=\"dataframe\">\n",
              "  <thead>\n",
              "    <tr style=\"text-align: right;\">\n",
              "      <th></th>\n",
              "      <th>DoubleLimbSupport</th>\n",
              "      <th>MI_Stance</th>\n",
              "      <th>LI_Stance</th>\n",
              "      <th>StepWidth</th>\n",
              "      <th>MI_StepLength</th>\n",
              "      <th>LI_StepLength</th>\n",
              "      <th>MI_ToeHeight</th>\n",
              "      <th>LI_ToeHeight</th>\n",
              "      <th>MI_HipFlexion_Extension</th>\n",
              "      <th>LI_HipFlexion_Extension</th>\n",
              "      <th>MI_HipAbduction_Adduction</th>\n",
              "      <th>LI_HipAbduction_Adduction</th>\n",
              "      <th>MI_KneeFlexion_Extension</th>\n",
              "      <th>LI_KneeFlexion_Extension</th>\n",
              "      <th>MI_AnkleFlexion_Extension</th>\n",
              "      <th>LI_AnkleFlexion_Extension</th>\n",
              "      <th>SpineLateral_Flexion</th>\n",
              "      <th>SpineFlexion_Extension</th>\n",
              "      <th>C7TrajectoryLength</th>\n",
              "      <th>COMML</th>\n",
              "      <th>COMAP</th>\n",
              "      <th>HipASI</th>\n",
              "      <th>KneeASI</th>\n",
              "      <th>AnkleASI</th>\n",
              "      <th>LegPhaseDispersion</th>\n",
              "      <th>SSDMI_HipMI_Knee</th>\n",
              "      <th>SSDLI_HipLI_Knee</th>\n",
              "      <th>SSDMI_KneeMI_Ankle</th>\n",
              "      <th>SSDLI_KneeLI_Ankle</th>\n",
              "      <th>ACCMI_HipMI_Knee</th>\n",
              "      <th>ACCLI_HipLI_Knee</th>\n",
              "      <th>ACCMI_KneeMI_Ankle</th>\n",
              "      <th>ACCLI_KneeLI_Ankle</th>\n",
              "      <th>COVMI_StepLength</th>\n",
              "      <th>COVLI_StepLength</th>\n",
              "      <th>COVStepWidth</th>\n",
              "      <th>COVC7</th>\n",
              "      <th>6MWT</th>\n",
              "    </tr>\n",
              "  </thead>\n",
              "  <tbody>\n",
              "    <tr>\n",
              "      <th>0</th>\n",
              "      <td>40.561167</td>\n",
              "      <td>70.707071</td>\n",
              "      <td>71.277997</td>\n",
              "      <td>103.659175</td>\n",
              "      <td>470.334541</td>\n",
              "      <td>476.277828</td>\n",
              "      <td>27.493149</td>\n",
              "      <td>27.491118</td>\n",
              "      <td>37.73577</td>\n",
              "      <td>36.03453</td>\n",
              "      <td>11.697101</td>\n",
              "      <td>10.913051</td>\n",
              "      <td>50.162964</td>\n",
              "      <td>49.494401</td>\n",
              "      <td>28.165459</td>\n",
              "      <td>30.636414</td>\n",
              "      <td>0.894091</td>\n",
              "      <td>-4.535361</td>\n",
              "      <td>145.846073</td>\n",
              "      <td>47.730483</td>\n",
              "      <td>17.908042</td>\n",
              "      <td>4.472639</td>\n",
              "      <td>2.770041</td>\n",
              "      <td>8.493871</td>\n",
              "      <td>49.667878</td>\n",
              "      <td>0.914553</td>\n",
              "      <td>1.199465</td>\n",
              "      <td>2.02255</td>\n",
              "      <td>1.564936</td>\n",
              "      <td>0.992296</td>\n",
              "      <td>0.993904</td>\n",
              "      <td>0.977612</td>\n",
              "      <td>0.987868</td>\n",
              "      <td>0.025409</td>\n",
              "      <td>0.020163</td>\n",
              "      <td>0.102948</td>\n",
              "      <td>0.066306</td>\n",
              "      <td>608</td>\n",
              "    </tr>\n",
              "  </tbody>\n",
              "</table>\n",
              "</div>"
            ],
            "text/plain": [
              "   DoubleLimbSupport  MI_Stance  LI_Stance  ...  COVStepWidth     COVC7  6MWT\n",
              "0          40.561167  70.707071  71.277997  ...      0.102948  0.066306   608\n",
              "\n",
              "[1 rows x 38 columns]"
            ]
          },
          "metadata": {},
          "execution_count": 255
        }
      ]
    },
    {
      "cell_type": "markdown",
      "metadata": {
        "id": "PlMpjQ1e1H9L"
      },
      "source": [
        "Since the range of the gait parameters are very different between each other, let's scale them between 0 and 1."
      ]
    },
    {
      "cell_type": "code",
      "metadata": {
        "id": "GWb8J29x1LTK"
      },
      "source": [
        "from sklearn.preprocessing import MinMaxScaler\n",
        "scaler = MinMaxScaler(feature_range=(0, 1))"
      ],
      "execution_count": 256,
      "outputs": []
    },
    {
      "cell_type": "code",
      "metadata": {
        "colab": {
          "base_uri": "https://localhost:8080/",
          "height": 226
        },
        "id": "OlC_f_-X1ZPR",
        "outputId": "60dcbc23-90f4-40f9-9a19-b150c0fb1faa"
      },
      "source": [
        "for col in Data.columns:\n",
        "  Data[Data.columns] = scaler.fit_transform(Data[Data.columns])\n",
        "Data.head()"
      ],
      "execution_count": 257,
      "outputs": [
        {
          "output_type": "execute_result",
          "data": {
            "text/html": [
              "<div>\n",
              "<style scoped>\n",
              "    .dataframe tbody tr th:only-of-type {\n",
              "        vertical-align: middle;\n",
              "    }\n",
              "\n",
              "    .dataframe tbody tr th {\n",
              "        vertical-align: top;\n",
              "    }\n",
              "\n",
              "    .dataframe thead th {\n",
              "        text-align: right;\n",
              "    }\n",
              "</style>\n",
              "<table border=\"1\" class=\"dataframe\">\n",
              "  <thead>\n",
              "    <tr style=\"text-align: right;\">\n",
              "      <th></th>\n",
              "      <th>DoubleLimbSupport</th>\n",
              "      <th>MI_Stance</th>\n",
              "      <th>LI_Stance</th>\n",
              "      <th>StepWidth</th>\n",
              "      <th>MI_StepLength</th>\n",
              "      <th>LI_StepLength</th>\n",
              "      <th>MI_ToeHeight</th>\n",
              "      <th>LI_ToeHeight</th>\n",
              "      <th>MI_HipFlexion_Extension</th>\n",
              "      <th>LI_HipFlexion_Extension</th>\n",
              "      <th>MI_HipAbduction_Adduction</th>\n",
              "      <th>LI_HipAbduction_Adduction</th>\n",
              "      <th>MI_KneeFlexion_Extension</th>\n",
              "      <th>LI_KneeFlexion_Extension</th>\n",
              "      <th>MI_AnkleFlexion_Extension</th>\n",
              "      <th>LI_AnkleFlexion_Extension</th>\n",
              "      <th>SpineLateral_Flexion</th>\n",
              "      <th>SpineFlexion_Extension</th>\n",
              "      <th>C7TrajectoryLength</th>\n",
              "      <th>COMML</th>\n",
              "      <th>COMAP</th>\n",
              "      <th>HipASI</th>\n",
              "      <th>KneeASI</th>\n",
              "      <th>AnkleASI</th>\n",
              "      <th>LegPhaseDispersion</th>\n",
              "      <th>SSDMI_HipMI_Knee</th>\n",
              "      <th>SSDLI_HipLI_Knee</th>\n",
              "      <th>SSDMI_KneeMI_Ankle</th>\n",
              "      <th>SSDLI_KneeLI_Ankle</th>\n",
              "      <th>ACCMI_HipMI_Knee</th>\n",
              "      <th>ACCLI_HipLI_Knee</th>\n",
              "      <th>ACCMI_KneeMI_Ankle</th>\n",
              "      <th>ACCLI_KneeLI_Ankle</th>\n",
              "      <th>COVMI_StepLength</th>\n",
              "      <th>COVLI_StepLength</th>\n",
              "      <th>COVStepWidth</th>\n",
              "      <th>COVC7</th>\n",
              "      <th>6MWT</th>\n",
              "    </tr>\n",
              "  </thead>\n",
              "  <tbody>\n",
              "    <tr>\n",
              "      <th>0</th>\n",
              "      <td>0.658243</td>\n",
              "      <td>0.723518</td>\n",
              "      <td>0.401379</td>\n",
              "      <td>0.351884</td>\n",
              "      <td>0.652896</td>\n",
              "      <td>0.742089</td>\n",
              "      <td>0.297123</td>\n",
              "      <td>0.701236</td>\n",
              "      <td>0.451901</td>\n",
              "      <td>0.244183</td>\n",
              "      <td>0.516609</td>\n",
              "      <td>0.466245</td>\n",
              "      <td>0.601891</td>\n",
              "      <td>0.723885</td>\n",
              "      <td>0.271851</td>\n",
              "      <td>0.217473</td>\n",
              "      <td>0.591777</td>\n",
              "      <td>0.375346</td>\n",
              "      <td>0.104453</td>\n",
              "      <td>0.330396</td>\n",
              "      <td>0.058957</td>\n",
              "      <td>0.031921</td>\n",
              "      <td>0.000000</td>\n",
              "      <td>0.040033</td>\n",
              "      <td>0.577787</td>\n",
              "      <td>0.000000</td>\n",
              "      <td>0.038769</td>\n",
              "      <td>0.000000</td>\n",
              "      <td>0.036266</td>\n",
              "      <td>1.000000</td>\n",
              "      <td>1.000000</td>\n",
              "      <td>0.992296</td>\n",
              "      <td>1.000000</td>\n",
              "      <td>0.000000</td>\n",
              "      <td>0.000000</td>\n",
              "      <td>0.023699</td>\n",
              "      <td>0.217919</td>\n",
              "      <td>0.793173</td>\n",
              "    </tr>\n",
              "    <tr>\n",
              "      <th>1</th>\n",
              "      <td>0.451751</td>\n",
              "      <td>0.581211</td>\n",
              "      <td>0.232605</td>\n",
              "      <td>0.395248</td>\n",
              "      <td>0.559020</td>\n",
              "      <td>0.463942</td>\n",
              "      <td>0.596357</td>\n",
              "      <td>0.661632</td>\n",
              "      <td>0.409667</td>\n",
              "      <td>0.207918</td>\n",
              "      <td>0.729662</td>\n",
              "      <td>1.000000</td>\n",
              "      <td>0.686233</td>\n",
              "      <td>0.650244</td>\n",
              "      <td>0.143679</td>\n",
              "      <td>0.092519</td>\n",
              "      <td>0.517717</td>\n",
              "      <td>0.341890</td>\n",
              "      <td>0.157097</td>\n",
              "      <td>0.206373</td>\n",
              "      <td>0.178137</td>\n",
              "      <td>0.031564</td>\n",
              "      <td>0.224579</td>\n",
              "      <td>0.085159</td>\n",
              "      <td>0.645379</td>\n",
              "      <td>0.174436</td>\n",
              "      <td>0.065746</td>\n",
              "      <td>0.272046</td>\n",
              "      <td>0.122949</td>\n",
              "      <td>0.905697</td>\n",
              "      <td>0.733679</td>\n",
              "      <td>0.833895</td>\n",
              "      <td>0.829670</td>\n",
              "      <td>0.148117</td>\n",
              "      <td>0.266078</td>\n",
              "      <td>0.114472</td>\n",
              "      <td>0.258556</td>\n",
              "      <td>0.736948</td>\n",
              "    </tr>\n",
              "    <tr>\n",
              "      <th>2</th>\n",
              "      <td>0.527120</td>\n",
              "      <td>0.683136</td>\n",
              "      <td>0.222536</td>\n",
              "      <td>0.328551</td>\n",
              "      <td>0.690246</td>\n",
              "      <td>0.645967</td>\n",
              "      <td>0.130475</td>\n",
              "      <td>0.648308</td>\n",
              "      <td>0.538050</td>\n",
              "      <td>0.217781</td>\n",
              "      <td>0.278632</td>\n",
              "      <td>0.188648</td>\n",
              "      <td>0.420679</td>\n",
              "      <td>0.258116</td>\n",
              "      <td>0.116275</td>\n",
              "      <td>0.143276</td>\n",
              "      <td>0.359498</td>\n",
              "      <td>0.229073</td>\n",
              "      <td>0.257937</td>\n",
              "      <td>0.498168</td>\n",
              "      <td>0.234988</td>\n",
              "      <td>0.217427</td>\n",
              "      <td>0.516531</td>\n",
              "      <td>0.310147</td>\n",
              "      <td>0.592479</td>\n",
              "      <td>0.374081</td>\n",
              "      <td>0.487112</td>\n",
              "      <td>0.245891</td>\n",
              "      <td>0.413129</td>\n",
              "      <td>0.898678</td>\n",
              "      <td>0.869542</td>\n",
              "      <td>0.906082</td>\n",
              "      <td>0.807679</td>\n",
              "      <td>0.015731</td>\n",
              "      <td>0.161559</td>\n",
              "      <td>0.035281</td>\n",
              "      <td>0.252721</td>\n",
              "      <td>0.897590</td>\n",
              "    </tr>\n",
              "    <tr>\n",
              "      <th>3</th>\n",
              "      <td>0.553517</td>\n",
              "      <td>0.641004</td>\n",
              "      <td>0.325679</td>\n",
              "      <td>0.427274</td>\n",
              "      <td>0.541772</td>\n",
              "      <td>0.511476</td>\n",
              "      <td>0.297368</td>\n",
              "      <td>0.773347</td>\n",
              "      <td>0.337796</td>\n",
              "      <td>0.196775</td>\n",
              "      <td>0.290753</td>\n",
              "      <td>0.447023</td>\n",
              "      <td>0.323263</td>\n",
              "      <td>0.712343</td>\n",
              "      <td>0.147904</td>\n",
              "      <td>0.088429</td>\n",
              "      <td>0.350309</td>\n",
              "      <td>0.134351</td>\n",
              "      <td>0.336012</td>\n",
              "      <td>0.434511</td>\n",
              "      <td>0.267585</td>\n",
              "      <td>0.050126</td>\n",
              "      <td>0.447572</td>\n",
              "      <td>0.101924</td>\n",
              "      <td>0.693648</td>\n",
              "      <td>0.146892</td>\n",
              "      <td>0.283642</td>\n",
              "      <td>0.078434</td>\n",
              "      <td>0.233680</td>\n",
              "      <td>0.934085</td>\n",
              "      <td>0.702697</td>\n",
              "      <td>0.889897</td>\n",
              "      <td>0.853988</td>\n",
              "      <td>0.313046</td>\n",
              "      <td>0.689327</td>\n",
              "      <td>0.066577</td>\n",
              "      <td>0.538420</td>\n",
              "      <td>0.445783</td>\n",
              "    </tr>\n",
              "    <tr>\n",
              "      <th>4</th>\n",
              "      <td>0.548957</td>\n",
              "      <td>0.656187</td>\n",
              "      <td>0.284292</td>\n",
              "      <td>0.163471</td>\n",
              "      <td>0.482686</td>\n",
              "      <td>0.505669</td>\n",
              "      <td>0.234197</td>\n",
              "      <td>0.671563</td>\n",
              "      <td>0.285977</td>\n",
              "      <td>0.101993</td>\n",
              "      <td>0.346123</td>\n",
              "      <td>0.252916</td>\n",
              "      <td>0.656746</td>\n",
              "      <td>0.840033</td>\n",
              "      <td>0.182560</td>\n",
              "      <td>0.199951</td>\n",
              "      <td>0.488256</td>\n",
              "      <td>0.495677</td>\n",
              "      <td>0.165372</td>\n",
              "      <td>0.163036</td>\n",
              "      <td>0.128508</td>\n",
              "      <td>0.016400</td>\n",
              "      <td>0.022836</td>\n",
              "      <td>0.284777</td>\n",
              "      <td>0.568531</td>\n",
              "      <td>0.216773</td>\n",
              "      <td>0.182450</td>\n",
              "      <td>0.040535</td>\n",
              "      <td>0.094104</td>\n",
              "      <td>0.957410</td>\n",
              "      <td>0.925126</td>\n",
              "      <td>0.944330</td>\n",
              "      <td>0.973144</td>\n",
              "      <td>0.075445</td>\n",
              "      <td>0.120620</td>\n",
              "      <td>0.186904</td>\n",
              "      <td>0.333830</td>\n",
              "      <td>0.943775</td>\n",
              "    </tr>\n",
              "  </tbody>\n",
              "</table>\n",
              "</div>"
            ],
            "text/plain": [
              "   DoubleLimbSupport  MI_Stance  LI_Stance  ...  COVStepWidth     COVC7      6MWT\n",
              "0           0.658243   0.723518   0.401379  ...      0.023699  0.217919  0.793173\n",
              "1           0.451751   0.581211   0.232605  ...      0.114472  0.258556  0.736948\n",
              "2           0.527120   0.683136   0.222536  ...      0.035281  0.252721  0.897590\n",
              "3           0.553517   0.641004   0.325679  ...      0.066577  0.538420  0.445783\n",
              "4           0.548957   0.656187   0.284292  ...      0.186904  0.333830  0.943775\n",
              "\n",
              "[5 rows x 38 columns]"
            ]
          },
          "metadata": {},
          "execution_count": 257
        }
      ]
    },
    {
      "cell_type": "code",
      "metadata": {
        "colab": {
          "base_uri": "https://localhost:8080/",
          "height": 226
        },
        "id": "ZmJsU9XE05nc",
        "outputId": "34ccea4b-43e8-4317-d22f-354743584dec"
      },
      "source": [
        "X = Data.drop(columns=['6MWT'])\n",
        "X.head()"
      ],
      "execution_count": 258,
      "outputs": [
        {
          "output_type": "execute_result",
          "data": {
            "text/html": [
              "<div>\n",
              "<style scoped>\n",
              "    .dataframe tbody tr th:only-of-type {\n",
              "        vertical-align: middle;\n",
              "    }\n",
              "\n",
              "    .dataframe tbody tr th {\n",
              "        vertical-align: top;\n",
              "    }\n",
              "\n",
              "    .dataframe thead th {\n",
              "        text-align: right;\n",
              "    }\n",
              "</style>\n",
              "<table border=\"1\" class=\"dataframe\">\n",
              "  <thead>\n",
              "    <tr style=\"text-align: right;\">\n",
              "      <th></th>\n",
              "      <th>DoubleLimbSupport</th>\n",
              "      <th>MI_Stance</th>\n",
              "      <th>LI_Stance</th>\n",
              "      <th>StepWidth</th>\n",
              "      <th>MI_StepLength</th>\n",
              "      <th>LI_StepLength</th>\n",
              "      <th>MI_ToeHeight</th>\n",
              "      <th>LI_ToeHeight</th>\n",
              "      <th>MI_HipFlexion_Extension</th>\n",
              "      <th>LI_HipFlexion_Extension</th>\n",
              "      <th>MI_HipAbduction_Adduction</th>\n",
              "      <th>LI_HipAbduction_Adduction</th>\n",
              "      <th>MI_KneeFlexion_Extension</th>\n",
              "      <th>LI_KneeFlexion_Extension</th>\n",
              "      <th>MI_AnkleFlexion_Extension</th>\n",
              "      <th>LI_AnkleFlexion_Extension</th>\n",
              "      <th>SpineLateral_Flexion</th>\n",
              "      <th>SpineFlexion_Extension</th>\n",
              "      <th>C7TrajectoryLength</th>\n",
              "      <th>COMML</th>\n",
              "      <th>COMAP</th>\n",
              "      <th>HipASI</th>\n",
              "      <th>KneeASI</th>\n",
              "      <th>AnkleASI</th>\n",
              "      <th>LegPhaseDispersion</th>\n",
              "      <th>SSDMI_HipMI_Knee</th>\n",
              "      <th>SSDLI_HipLI_Knee</th>\n",
              "      <th>SSDMI_KneeMI_Ankle</th>\n",
              "      <th>SSDLI_KneeLI_Ankle</th>\n",
              "      <th>ACCMI_HipMI_Knee</th>\n",
              "      <th>ACCLI_HipLI_Knee</th>\n",
              "      <th>ACCMI_KneeMI_Ankle</th>\n",
              "      <th>ACCLI_KneeLI_Ankle</th>\n",
              "      <th>COVMI_StepLength</th>\n",
              "      <th>COVLI_StepLength</th>\n",
              "      <th>COVStepWidth</th>\n",
              "      <th>COVC7</th>\n",
              "    </tr>\n",
              "  </thead>\n",
              "  <tbody>\n",
              "    <tr>\n",
              "      <th>0</th>\n",
              "      <td>0.658243</td>\n",
              "      <td>0.723518</td>\n",
              "      <td>0.401379</td>\n",
              "      <td>0.351884</td>\n",
              "      <td>0.652896</td>\n",
              "      <td>0.742089</td>\n",
              "      <td>0.297123</td>\n",
              "      <td>0.701236</td>\n",
              "      <td>0.451901</td>\n",
              "      <td>0.244183</td>\n",
              "      <td>0.516609</td>\n",
              "      <td>0.466245</td>\n",
              "      <td>0.601891</td>\n",
              "      <td>0.723885</td>\n",
              "      <td>0.271851</td>\n",
              "      <td>0.217473</td>\n",
              "      <td>0.591777</td>\n",
              "      <td>0.375346</td>\n",
              "      <td>0.104453</td>\n",
              "      <td>0.330396</td>\n",
              "      <td>0.058957</td>\n",
              "      <td>0.031921</td>\n",
              "      <td>0.000000</td>\n",
              "      <td>0.040033</td>\n",
              "      <td>0.577787</td>\n",
              "      <td>0.000000</td>\n",
              "      <td>0.038769</td>\n",
              "      <td>0.000000</td>\n",
              "      <td>0.036266</td>\n",
              "      <td>1.000000</td>\n",
              "      <td>1.000000</td>\n",
              "      <td>0.992296</td>\n",
              "      <td>1.000000</td>\n",
              "      <td>0.000000</td>\n",
              "      <td>0.000000</td>\n",
              "      <td>0.023699</td>\n",
              "      <td>0.217919</td>\n",
              "    </tr>\n",
              "    <tr>\n",
              "      <th>1</th>\n",
              "      <td>0.451751</td>\n",
              "      <td>0.581211</td>\n",
              "      <td>0.232605</td>\n",
              "      <td>0.395248</td>\n",
              "      <td>0.559020</td>\n",
              "      <td>0.463942</td>\n",
              "      <td>0.596357</td>\n",
              "      <td>0.661632</td>\n",
              "      <td>0.409667</td>\n",
              "      <td>0.207918</td>\n",
              "      <td>0.729662</td>\n",
              "      <td>1.000000</td>\n",
              "      <td>0.686233</td>\n",
              "      <td>0.650244</td>\n",
              "      <td>0.143679</td>\n",
              "      <td>0.092519</td>\n",
              "      <td>0.517717</td>\n",
              "      <td>0.341890</td>\n",
              "      <td>0.157097</td>\n",
              "      <td>0.206373</td>\n",
              "      <td>0.178137</td>\n",
              "      <td>0.031564</td>\n",
              "      <td>0.224579</td>\n",
              "      <td>0.085159</td>\n",
              "      <td>0.645379</td>\n",
              "      <td>0.174436</td>\n",
              "      <td>0.065746</td>\n",
              "      <td>0.272046</td>\n",
              "      <td>0.122949</td>\n",
              "      <td>0.905697</td>\n",
              "      <td>0.733679</td>\n",
              "      <td>0.833895</td>\n",
              "      <td>0.829670</td>\n",
              "      <td>0.148117</td>\n",
              "      <td>0.266078</td>\n",
              "      <td>0.114472</td>\n",
              "      <td>0.258556</td>\n",
              "    </tr>\n",
              "    <tr>\n",
              "      <th>2</th>\n",
              "      <td>0.527120</td>\n",
              "      <td>0.683136</td>\n",
              "      <td>0.222536</td>\n",
              "      <td>0.328551</td>\n",
              "      <td>0.690246</td>\n",
              "      <td>0.645967</td>\n",
              "      <td>0.130475</td>\n",
              "      <td>0.648308</td>\n",
              "      <td>0.538050</td>\n",
              "      <td>0.217781</td>\n",
              "      <td>0.278632</td>\n",
              "      <td>0.188648</td>\n",
              "      <td>0.420679</td>\n",
              "      <td>0.258116</td>\n",
              "      <td>0.116275</td>\n",
              "      <td>0.143276</td>\n",
              "      <td>0.359498</td>\n",
              "      <td>0.229073</td>\n",
              "      <td>0.257937</td>\n",
              "      <td>0.498168</td>\n",
              "      <td>0.234988</td>\n",
              "      <td>0.217427</td>\n",
              "      <td>0.516531</td>\n",
              "      <td>0.310147</td>\n",
              "      <td>0.592479</td>\n",
              "      <td>0.374081</td>\n",
              "      <td>0.487112</td>\n",
              "      <td>0.245891</td>\n",
              "      <td>0.413129</td>\n",
              "      <td>0.898678</td>\n",
              "      <td>0.869542</td>\n",
              "      <td>0.906082</td>\n",
              "      <td>0.807679</td>\n",
              "      <td>0.015731</td>\n",
              "      <td>0.161559</td>\n",
              "      <td>0.035281</td>\n",
              "      <td>0.252721</td>\n",
              "    </tr>\n",
              "    <tr>\n",
              "      <th>3</th>\n",
              "      <td>0.553517</td>\n",
              "      <td>0.641004</td>\n",
              "      <td>0.325679</td>\n",
              "      <td>0.427274</td>\n",
              "      <td>0.541772</td>\n",
              "      <td>0.511476</td>\n",
              "      <td>0.297368</td>\n",
              "      <td>0.773347</td>\n",
              "      <td>0.337796</td>\n",
              "      <td>0.196775</td>\n",
              "      <td>0.290753</td>\n",
              "      <td>0.447023</td>\n",
              "      <td>0.323263</td>\n",
              "      <td>0.712343</td>\n",
              "      <td>0.147904</td>\n",
              "      <td>0.088429</td>\n",
              "      <td>0.350309</td>\n",
              "      <td>0.134351</td>\n",
              "      <td>0.336012</td>\n",
              "      <td>0.434511</td>\n",
              "      <td>0.267585</td>\n",
              "      <td>0.050126</td>\n",
              "      <td>0.447572</td>\n",
              "      <td>0.101924</td>\n",
              "      <td>0.693648</td>\n",
              "      <td>0.146892</td>\n",
              "      <td>0.283642</td>\n",
              "      <td>0.078434</td>\n",
              "      <td>0.233680</td>\n",
              "      <td>0.934085</td>\n",
              "      <td>0.702697</td>\n",
              "      <td>0.889897</td>\n",
              "      <td>0.853988</td>\n",
              "      <td>0.313046</td>\n",
              "      <td>0.689327</td>\n",
              "      <td>0.066577</td>\n",
              "      <td>0.538420</td>\n",
              "    </tr>\n",
              "    <tr>\n",
              "      <th>4</th>\n",
              "      <td>0.548957</td>\n",
              "      <td>0.656187</td>\n",
              "      <td>0.284292</td>\n",
              "      <td>0.163471</td>\n",
              "      <td>0.482686</td>\n",
              "      <td>0.505669</td>\n",
              "      <td>0.234197</td>\n",
              "      <td>0.671563</td>\n",
              "      <td>0.285977</td>\n",
              "      <td>0.101993</td>\n",
              "      <td>0.346123</td>\n",
              "      <td>0.252916</td>\n",
              "      <td>0.656746</td>\n",
              "      <td>0.840033</td>\n",
              "      <td>0.182560</td>\n",
              "      <td>0.199951</td>\n",
              "      <td>0.488256</td>\n",
              "      <td>0.495677</td>\n",
              "      <td>0.165372</td>\n",
              "      <td>0.163036</td>\n",
              "      <td>0.128508</td>\n",
              "      <td>0.016400</td>\n",
              "      <td>0.022836</td>\n",
              "      <td>0.284777</td>\n",
              "      <td>0.568531</td>\n",
              "      <td>0.216773</td>\n",
              "      <td>0.182450</td>\n",
              "      <td>0.040535</td>\n",
              "      <td>0.094104</td>\n",
              "      <td>0.957410</td>\n",
              "      <td>0.925126</td>\n",
              "      <td>0.944330</td>\n",
              "      <td>0.973144</td>\n",
              "      <td>0.075445</td>\n",
              "      <td>0.120620</td>\n",
              "      <td>0.186904</td>\n",
              "      <td>0.333830</td>\n",
              "    </tr>\n",
              "  </tbody>\n",
              "</table>\n",
              "</div>"
            ],
            "text/plain": [
              "   DoubleLimbSupport  MI_Stance  ...  COVStepWidth     COVC7\n",
              "0           0.658243   0.723518  ...      0.023699  0.217919\n",
              "1           0.451751   0.581211  ...      0.114472  0.258556\n",
              "2           0.527120   0.683136  ...      0.035281  0.252721\n",
              "3           0.553517   0.641004  ...      0.066577  0.538420\n",
              "4           0.548957   0.656187  ...      0.186904  0.333830\n",
              "\n",
              "[5 rows x 37 columns]"
            ]
          },
          "metadata": {},
          "execution_count": 258
        }
      ]
    },
    {
      "cell_type": "markdown",
      "metadata": {
        "id": "jqn7460Kefym"
      },
      "source": [
        "Let's have a look at the elbow plot to see how many clusters we should take."
      ]
    },
    {
      "cell_type": "code",
      "metadata": {
        "colab": {
          "base_uri": "https://localhost:8080/",
          "height": 295
        },
        "id": "AIwRaWu8dar-",
        "outputId": "0bb2b0e0-8069-4230-d879-7a5417f61d36"
      },
      "source": [
        "options = range(2,11)\n",
        "inertias = []\n",
        "\n",
        "for n_clusters in options:\n",
        "    model = KMeans(n_clusters, random_state=42).fit(X)\n",
        "    inertias.append(model.inertia_)\n",
        "    \n",
        "plt.title(\"No. of clusters vs. Inertia\")\n",
        "plt.plot(options, inertias, '-o')\n",
        "plt.xlabel('No. of clusters (K)')\n",
        "plt.ylabel('Inertia');"
      ],
      "execution_count": 259,
      "outputs": [
        {
          "output_type": "display_data",
          "data": {
            "image/png": "[encoded data removed]",
            "text/plain": [
              "<Figure size 432x288 with 1 Axes>"
            ]
          },
          "metadata": {
            "needs_background": "light"
          }
        }
      ]
    },
    {
      "cell_type": "markdown",
      "metadata": {
        "id": "gdDRmCe5dtmL"
      },
      "source": [
        "The chart creates an \"elbow\" plot and we can pick the number of clusters beyond which the reduction in inertia decreases sharply. "
      ]
    },
    {
      "cell_type": "markdown",
      "metadata": {
        "id": "2oMDlwoi2t_a"
      },
      "source": [
        "# Boqi"
      ]
    }
  ]
}